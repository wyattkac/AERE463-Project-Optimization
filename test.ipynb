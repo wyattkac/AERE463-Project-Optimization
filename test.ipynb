{
 "cells": [
  {
   "cell_type": "code",
   "execution_count": 1,
   "metadata": {},
   "outputs": [
    {
     "name": "stdout",
     "output_type": "stream",
     "text": [
      "`RadarSimPy` used in this example is version: 12.1.0\n"
     ]
    }
   ],
   "source": [
    "import radarsimpy\n",
    "print('`RadarSimPy` used in this example is version: ' +\n",
    "      str(radarsimpy.__version__))"
   ]
  },
  {
   "cell_type": "code",
   "execution_count": 2,
   "metadata": {},
   "outputs": [],
   "source": [
    "import pymeshlab\n",
    "import numpy as np\n",
    "\n",
    "target = {\n",
    "        # \"model\": 'C:\\\\Users\\\\Nicholas\\\\Documents\\\\ISU Spring 2024\\\\AERE 463\\\\AERE463-Project-Optimization\\\\lamborgini_aventador.stl',\n",
    "        # \"model\": 'C:/Users/Nicholas/Documents/ISU Spring 2024/AERE 463/AERE463-Project-Optimization/cr.stl',\n",
    "        \"model\": 'C:/Users/Nicholas/Documents/ISU Spring 2024/AERE 463/AERE463-Project-Optimization/Example_Mesh1.stl',\n",
    "        # \"model\": 'C:/Users/Nicholas/Documents/ISU Spring 2024/AERE 463/AERE463-Project-Optimization/F117_.stl',\n",
    "        \"location\": (0, 0, 0),\n",
    "  }"
   ]
  },
  {
   "cell_type": "code",
   "execution_count": null,
   "metadata": {},
   "outputs": [],
   "source": [
    "# import plotly.graph_objs as go\n",
    "# from IPython.display import Image\n",
    "\n",
    "# ms = pymeshlab.MeshSet()\n",
    "# ms.load_new_mesh(target['model'])\n",
    "# t_mesh = ms.current_mesh()\n",
    "# v_matrix = np.array(t_mesh.vertex_matrix())\n",
    "# f_matrix = np.array(t_mesh.face_matrix())\n",
    "\n",
    "# fig = go.Figure()\n",
    "# fig.add_trace(go.Mesh3d(x=v_matrix[:, 0],\n",
    "#                         y=v_matrix[:, 1],\n",
    "#                         z=v_matrix[:, 2],\n",
    "#                         i=f_matrix[:, 0],\n",
    "#                         j=f_matrix[:, 1],\n",
    "#                         k=f_matrix[:, 2],\n",
    "#                         intensity=v_matrix[:, 2],\n",
    "#                         colorscale='Viridis'\n",
    "#                         ))\n",
    "# fig['layout']['scene']['aspectmode'] = \"data\"\n",
    "# fig['layout']['height'] = 800\n",
    "\n",
    "# # uncomment this to display interactive plot\n",
    "# fig.show()\n",
    "\n",
    "# # display static image to reduce size on radarsimx.com\n",
    "# # img_bytes = fig.to_image(format=\"jpg\", scale=2)\n",
    "# # display(Image(img_bytes))"
   ]
  },
  {
   "cell_type": "markdown",
   "metadata": {},
   "source": [
    "# Simulate RCS vs Observation Angle"
   ]
  },
  {
   "cell_type": "code",
   "execution_count": 8,
   "metadata": {},
   "outputs": [
    {
     "name": "stdout",
     "output_type": "stream",
     "text": [
      "Exec time :19.533642292022705s\n"
     ]
    }
   ],
   "source": [
    "import time\n",
    "\n",
    "from radarsimpy.rt import rcs_sbr\n",
    "\n",
    "phi = np.arange(0, 180, 1)\n",
    "theta = 90\n",
    "freq = 3.1e9\n",
    "pol = [0, 0, 1]\n",
    "density = .1\n",
    "\n",
    "rcs = np.zeros_like(phi)\n",
    "\n",
    "tic = time.time()\n",
    "for phi_idx, phi_ang in enumerate(phi):\n",
    "    rcs[phi_idx] = 10 * np.log10(\n",
    "        rcs_sbr([target],\n",
    "                freq,\n",
    "                phi_ang,\n",
    "                theta,\n",
    "                pol=pol,\n",
    "                density=density))\n",
    "toc = time.time()\n",
    "\n",
    "print('Exec time :'+str(toc-tic) + 's')\n",
    "\n",
    "rcs = np.concatenate((rcs, rcs))\n",
    "phi = np.concatenate((phi, -phi))"
   ]
  },
  {
   "cell_type": "code",
   "execution_count": 7,
   "metadata": {},
   "outputs": [
    {
     "data": {
      "application/vnd.plotly.v1+json": {
       "config": {
        "plotlyServerURL": "https://plot.ly"
       },
       "data": [
        {
         "hovertemplate": "RCS (dBsm)=%{r}<br>Observation angle (Degree)=%{theta}<extra></extra>",
         "legendgroup": "",
         "line": {
          "color": "#636efa",
          "dash": "solid",
          "shape": "spline"
         },
         "marker": {
          "symbol": "circle"
         },
         "mode": "lines",
         "name": "",
         "r": [
          -15,
          -20,
          -12,
          -7,
          -7,
          -18,
          -14,
          -15,
          -13,
          -19,
          -16,
          -16,
          -22,
          -16,
          -12,
          -9,
          -11,
          -13,
          -11,
          -13,
          -11,
          -17,
          -11,
          -7,
          -15,
          -4,
          -4,
          -12,
          -11,
          -13,
          -12,
          -8,
          -12,
          -8,
          -9,
          -4,
          -6,
          -10,
          -3,
          -15,
          -4,
          -13,
          -4,
          -2,
          1,
          -5,
          -1,
          -1,
          -5,
          -1,
          0,
          -1,
          3,
          -1,
          -14,
          -8,
          0,
          -3,
          0,
          -7,
          -1,
          5,
          -6,
          4,
          -4,
          -1,
          -6,
          0,
          0,
          2,
          4,
          -1,
          0,
          -5,
          -3,
          2,
          -1,
          0,
          0,
          -1,
          1,
          -6,
          4,
          -12,
          3,
          1,
          5,
          9,
          16,
          7,
          18,
          27,
          30,
          28,
          24,
          17,
          13,
          15,
          5,
          9,
          2,
          2,
          -2,
          2,
          -2,
          -8,
          -7,
          -3,
          -8,
          -3,
          -4,
          -4,
          -3,
          -6,
          -3,
          6,
          5,
          8,
          3,
          -6,
          -2,
          0,
          2,
          0,
          -2,
          -5,
          -4,
          -7,
          -3,
          -10,
          -4,
          -3,
          -5,
          -2,
          -10,
          -5,
          0,
          -1,
          -10,
          -12,
          -9,
          -2,
          0,
          -1,
          -6,
          -11,
          -6,
          -12,
          -7,
          -6,
          -9,
          -12,
          -8,
          -6,
          -10,
          -8,
          -8,
          -12,
          -17,
          -8,
          -10,
          -9,
          -17,
          -24,
          -19,
          -15,
          -17,
          -18,
          -17,
          -21,
          -17,
          -18,
          -29,
          -22,
          -30,
          -20,
          -31,
          -20,
          -20,
          -25,
          -15,
          -20,
          -12,
          -7,
          -7,
          -18,
          -14,
          -15,
          -13,
          -19,
          -16,
          -16,
          -22,
          -16,
          -12,
          -9,
          -11,
          -13,
          -11,
          -13,
          -11,
          -17,
          -11,
          -7,
          -15,
          -4,
          -4,
          -12,
          -11,
          -13,
          -12,
          -8,
          -12,
          -8,
          -9,
          -4,
          -6,
          -10,
          -3,
          -15,
          -4,
          -13,
          -4,
          -2,
          1,
          -5,
          -1,
          -1,
          -5,
          -1,
          0,
          -1,
          3,
          -1,
          -14,
          -8,
          0,
          -3,
          0,
          -7,
          -1,
          5,
          -6,
          4,
          -4,
          -1,
          -6,
          0,
          0,
          2,
          4,
          -1,
          0,
          -5,
          -3,
          2,
          -1,
          0,
          0,
          -1,
          1,
          -6,
          4,
          -12,
          3,
          1,
          5,
          9,
          16,
          7,
          18,
          27,
          30,
          28,
          24,
          17,
          13,
          15,
          5,
          9,
          2,
          2,
          -2,
          2,
          -2,
          -8,
          -7,
          -3,
          -8,
          -3,
          -4,
          -4,
          -3,
          -6,
          -3,
          6,
          5,
          8,
          3,
          -6,
          -2,
          0,
          2,
          0,
          -2,
          -5,
          -4,
          -7,
          -3,
          -10,
          -4,
          -3,
          -5,
          -2,
          -10,
          -5,
          0,
          -1,
          -10,
          -12,
          -9,
          -2,
          0,
          -1,
          -6,
          -11,
          -6,
          -12,
          -7,
          -6,
          -9,
          -12,
          -8,
          -6,
          -10,
          -8,
          -8,
          -12,
          -17,
          -8,
          -10,
          -9,
          -17,
          -24,
          -19,
          -15,
          -17,
          -18,
          -17,
          -21,
          -17,
          -18,
          -29,
          -22,
          -30,
          -20,
          -31,
          -20,
          -20,
          -25,
          -15
         ],
         "showlegend": false,
         "subplot": "polar",
         "theta": [
          0,
          1,
          2,
          3,
          4,
          5,
          6,
          7,
          8,
          9,
          10,
          11,
          12,
          13,
          14,
          15,
          16,
          17,
          18,
          19,
          20,
          21,
          22,
          23,
          24,
          25,
          26,
          27,
          28,
          29,
          30,
          31,
          32,
          33,
          34,
          35,
          36,
          37,
          38,
          39,
          40,
          41,
          42,
          43,
          44,
          45,
          46,
          47,
          48,
          49,
          50,
          51,
          52,
          53,
          54,
          55,
          56,
          57,
          58,
          59,
          60,
          61,
          62,
          63,
          64,
          65,
          66,
          67,
          68,
          69,
          70,
          71,
          72,
          73,
          74,
          75,
          76,
          77,
          78,
          79,
          80,
          81,
          82,
          83,
          84,
          85,
          86,
          87,
          88,
          89,
          90,
          91,
          92,
          93,
          94,
          95,
          96,
          97,
          98,
          99,
          100,
          101,
          102,
          103,
          104,
          105,
          106,
          107,
          108,
          109,
          110,
          111,
          112,
          113,
          114,
          115,
          116,
          117,
          118,
          119,
          120,
          121,
          122,
          123,
          124,
          125,
          126,
          127,
          128,
          129,
          130,
          131,
          132,
          133,
          134,
          135,
          136,
          137,
          138,
          139,
          140,
          141,
          142,
          143,
          144,
          145,
          146,
          147,
          148,
          149,
          150,
          151,
          152,
          153,
          154,
          155,
          156,
          157,
          158,
          159,
          160,
          161,
          162,
          163,
          164,
          165,
          166,
          167,
          168,
          169,
          170,
          171,
          172,
          173,
          174,
          175,
          176,
          177,
          178,
          179,
          0,
          -1,
          -2,
          -3,
          -4,
          -5,
          -6,
          -7,
          -8,
          -9,
          -10,
          -11,
          -12,
          -13,
          -14,
          -15,
          -16,
          -17,
          -18,
          -19,
          -20,
          -21,
          -22,
          -23,
          -24,
          -25,
          -26,
          -27,
          -28,
          -29,
          -30,
          -31,
          -32,
          -33,
          -34,
          -35,
          -36,
          -37,
          -38,
          -39,
          -40,
          -41,
          -42,
          -43,
          -44,
          -45,
          -46,
          -47,
          -48,
          -49,
          -50,
          -51,
          -52,
          -53,
          -54,
          -55,
          -56,
          -57,
          -58,
          -59,
          -60,
          -61,
          -62,
          -63,
          -64,
          -65,
          -66,
          -67,
          -68,
          -69,
          -70,
          -71,
          -72,
          -73,
          -74,
          -75,
          -76,
          -77,
          -78,
          -79,
          -80,
          -81,
          -82,
          -83,
          -84,
          -85,
          -86,
          -87,
          -88,
          -89,
          -90,
          -91,
          -92,
          -93,
          -94,
          -95,
          -96,
          -97,
          -98,
          -99,
          -100,
          -101,
          -102,
          -103,
          -104,
          -105,
          -106,
          -107,
          -108,
          -109,
          -110,
          -111,
          -112,
          -113,
          -114,
          -115,
          -116,
          -117,
          -118,
          -119,
          -120,
          -121,
          -122,
          -123,
          -124,
          -125,
          -126,
          -127,
          -128,
          -129,
          -130,
          -131,
          -132,
          -133,
          -134,
          -135,
          -136,
          -137,
          -138,
          -139,
          -140,
          -141,
          -142,
          -143,
          -144,
          -145,
          -146,
          -147,
          -148,
          -149,
          -150,
          -151,
          -152,
          -153,
          -154,
          -155,
          -156,
          -157,
          -158,
          -159,
          -160,
          -161,
          -162,
          -163,
          -164,
          -165,
          -166,
          -167,
          -168,
          -169,
          -170,
          -171,
          -172,
          -173,
          -174,
          -175,
          -176,
          -177,
          -178,
          -179,
          0
         ],
         "type": "scatterpolar"
        }
       ],
       "layout": {
        "legend": {
         "tracegroupgap": 0
        },
        "polar": {
         "angularaxis": {
          "direction": "clockwise",
          "rotation": 90
         },
         "domain": {
          "x": [
           0,
           1
          ],
          "y": [
           0,
           1
          ]
         },
         "radialaxis": {
          "range": [
           -40,
           40
          ]
         }
        },
        "template": {
         "data": {
          "bar": [
           {
            "error_x": {
             "color": "#2a3f5f"
            },
            "error_y": {
             "color": "#2a3f5f"
            },
            "marker": {
             "line": {
              "color": "#E5ECF6",
              "width": 0.5
             },
             "pattern": {
              "fillmode": "overlay",
              "size": 10,
              "solidity": 0.2
             }
            },
            "type": "bar"
           }
          ],
          "barpolar": [
           {
            "marker": {
             "line": {
              "color": "#E5ECF6",
              "width": 0.5
             },
             "pattern": {
              "fillmode": "overlay",
              "size": 10,
              "solidity": 0.2
             }
            },
            "type": "barpolar"
           }
          ],
          "carpet": [
           {
            "aaxis": {
             "endlinecolor": "#2a3f5f",
             "gridcolor": "white",
             "linecolor": "white",
             "minorgridcolor": "white",
             "startlinecolor": "#2a3f5f"
            },
            "baxis": {
             "endlinecolor": "#2a3f5f",
             "gridcolor": "white",
             "linecolor": "white",
             "minorgridcolor": "white",
             "startlinecolor": "#2a3f5f"
            },
            "type": "carpet"
           }
          ],
          "choropleth": [
           {
            "colorbar": {
             "outlinewidth": 0,
             "ticks": ""
            },
            "type": "choropleth"
           }
          ],
          "contour": [
           {
            "colorbar": {
             "outlinewidth": 0,
             "ticks": ""
            },
            "colorscale": [
             [
              0,
              "#0d0887"
             ],
             [
              0.1111111111111111,
              "#46039f"
             ],
             [
              0.2222222222222222,
              "#7201a8"
             ],
             [
              0.3333333333333333,
              "#9c179e"
             ],
             [
              0.4444444444444444,
              "#bd3786"
             ],
             [
              0.5555555555555556,
              "#d8576b"
             ],
             [
              0.6666666666666666,
              "#ed7953"
             ],
             [
              0.7777777777777778,
              "#fb9f3a"
             ],
             [
              0.8888888888888888,
              "#fdca26"
             ],
             [
              1,
              "#f0f921"
             ]
            ],
            "type": "contour"
           }
          ],
          "contourcarpet": [
           {
            "colorbar": {
             "outlinewidth": 0,
             "ticks": ""
            },
            "type": "contourcarpet"
           }
          ],
          "heatmap": [
           {
            "colorbar": {
             "outlinewidth": 0,
             "ticks": ""
            },
            "colorscale": [
             [
              0,
              "#0d0887"
             ],
             [
              0.1111111111111111,
              "#46039f"
             ],
             [
              0.2222222222222222,
              "#7201a8"
             ],
             [
              0.3333333333333333,
              "#9c179e"
             ],
             [
              0.4444444444444444,
              "#bd3786"
             ],
             [
              0.5555555555555556,
              "#d8576b"
             ],
             [
              0.6666666666666666,
              "#ed7953"
             ],
             [
              0.7777777777777778,
              "#fb9f3a"
             ],
             [
              0.8888888888888888,
              "#fdca26"
             ],
             [
              1,
              "#f0f921"
             ]
            ],
            "type": "heatmap"
           }
          ],
          "heatmapgl": [
           {
            "colorbar": {
             "outlinewidth": 0,
             "ticks": ""
            },
            "colorscale": [
             [
              0,
              "#0d0887"
             ],
             [
              0.1111111111111111,
              "#46039f"
             ],
             [
              0.2222222222222222,
              "#7201a8"
             ],
             [
              0.3333333333333333,
              "#9c179e"
             ],
             [
              0.4444444444444444,
              "#bd3786"
             ],
             [
              0.5555555555555556,
              "#d8576b"
             ],
             [
              0.6666666666666666,
              "#ed7953"
             ],
             [
              0.7777777777777778,
              "#fb9f3a"
             ],
             [
              0.8888888888888888,
              "#fdca26"
             ],
             [
              1,
              "#f0f921"
             ]
            ],
            "type": "heatmapgl"
           }
          ],
          "histogram": [
           {
            "marker": {
             "pattern": {
              "fillmode": "overlay",
              "size": 10,
              "solidity": 0.2
             }
            },
            "type": "histogram"
           }
          ],
          "histogram2d": [
           {
            "colorbar": {
             "outlinewidth": 0,
             "ticks": ""
            },
            "colorscale": [
             [
              0,
              "#0d0887"
             ],
             [
              0.1111111111111111,
              "#46039f"
             ],
             [
              0.2222222222222222,
              "#7201a8"
             ],
             [
              0.3333333333333333,
              "#9c179e"
             ],
             [
              0.4444444444444444,
              "#bd3786"
             ],
             [
              0.5555555555555556,
              "#d8576b"
             ],
             [
              0.6666666666666666,
              "#ed7953"
             ],
             [
              0.7777777777777778,
              "#fb9f3a"
             ],
             [
              0.8888888888888888,
              "#fdca26"
             ],
             [
              1,
              "#f0f921"
             ]
            ],
            "type": "histogram2d"
           }
          ],
          "histogram2dcontour": [
           {
            "colorbar": {
             "outlinewidth": 0,
             "ticks": ""
            },
            "colorscale": [
             [
              0,
              "#0d0887"
             ],
             [
              0.1111111111111111,
              "#46039f"
             ],
             [
              0.2222222222222222,
              "#7201a8"
             ],
             [
              0.3333333333333333,
              "#9c179e"
             ],
             [
              0.4444444444444444,
              "#bd3786"
             ],
             [
              0.5555555555555556,
              "#d8576b"
             ],
             [
              0.6666666666666666,
              "#ed7953"
             ],
             [
              0.7777777777777778,
              "#fb9f3a"
             ],
             [
              0.8888888888888888,
              "#fdca26"
             ],
             [
              1,
              "#f0f921"
             ]
            ],
            "type": "histogram2dcontour"
           }
          ],
          "mesh3d": [
           {
            "colorbar": {
             "outlinewidth": 0,
             "ticks": ""
            },
            "type": "mesh3d"
           }
          ],
          "parcoords": [
           {
            "line": {
             "colorbar": {
              "outlinewidth": 0,
              "ticks": ""
             }
            },
            "type": "parcoords"
           }
          ],
          "pie": [
           {
            "automargin": true,
            "type": "pie"
           }
          ],
          "scatter": [
           {
            "fillpattern": {
             "fillmode": "overlay",
             "size": 10,
             "solidity": 0.2
            },
            "type": "scatter"
           }
          ],
          "scatter3d": [
           {
            "line": {
             "colorbar": {
              "outlinewidth": 0,
              "ticks": ""
             }
            },
            "marker": {
             "colorbar": {
              "outlinewidth": 0,
              "ticks": ""
             }
            },
            "type": "scatter3d"
           }
          ],
          "scattercarpet": [
           {
            "marker": {
             "colorbar": {
              "outlinewidth": 0,
              "ticks": ""
             }
            },
            "type": "scattercarpet"
           }
          ],
          "scattergeo": [
           {
            "marker": {
             "colorbar": {
              "outlinewidth": 0,
              "ticks": ""
             }
            },
            "type": "scattergeo"
           }
          ],
          "scattergl": [
           {
            "marker": {
             "colorbar": {
              "outlinewidth": 0,
              "ticks": ""
             }
            },
            "type": "scattergl"
           }
          ],
          "scattermapbox": [
           {
            "marker": {
             "colorbar": {
              "outlinewidth": 0,
              "ticks": ""
             }
            },
            "type": "scattermapbox"
           }
          ],
          "scatterpolar": [
           {
            "marker": {
             "colorbar": {
              "outlinewidth": 0,
              "ticks": ""
             }
            },
            "type": "scatterpolar"
           }
          ],
          "scatterpolargl": [
           {
            "marker": {
             "colorbar": {
              "outlinewidth": 0,
              "ticks": ""
             }
            },
            "type": "scatterpolargl"
           }
          ],
          "scatterternary": [
           {
            "marker": {
             "colorbar": {
              "outlinewidth": 0,
              "ticks": ""
             }
            },
            "type": "scatterternary"
           }
          ],
          "surface": [
           {
            "colorbar": {
             "outlinewidth": 0,
             "ticks": ""
            },
            "colorscale": [
             [
              0,
              "#0d0887"
             ],
             [
              0.1111111111111111,
              "#46039f"
             ],
             [
              0.2222222222222222,
              "#7201a8"
             ],
             [
              0.3333333333333333,
              "#9c179e"
             ],
             [
              0.4444444444444444,
              "#bd3786"
             ],
             [
              0.5555555555555556,
              "#d8576b"
             ],
             [
              0.6666666666666666,
              "#ed7953"
             ],
             [
              0.7777777777777778,
              "#fb9f3a"
             ],
             [
              0.8888888888888888,
              "#fdca26"
             ],
             [
              1,
              "#f0f921"
             ]
            ],
            "type": "surface"
           }
          ],
          "table": [
           {
            "cells": {
             "fill": {
              "color": "#EBF0F8"
             },
             "line": {
              "color": "white"
             }
            },
            "header": {
             "fill": {
              "color": "#C8D4E3"
             },
             "line": {
              "color": "white"
             }
            },
            "type": "table"
           }
          ]
         },
         "layout": {
          "annotationdefaults": {
           "arrowcolor": "#2a3f5f",
           "arrowhead": 0,
           "arrowwidth": 1
          },
          "autotypenumbers": "strict",
          "coloraxis": {
           "colorbar": {
            "outlinewidth": 0,
            "ticks": ""
           }
          },
          "colorscale": {
           "diverging": [
            [
             0,
             "#8e0152"
            ],
            [
             0.1,
             "#c51b7d"
            ],
            [
             0.2,
             "#de77ae"
            ],
            [
             0.3,
             "#f1b6da"
            ],
            [
             0.4,
             "#fde0ef"
            ],
            [
             0.5,
             "#f7f7f7"
            ],
            [
             0.6,
             "#e6f5d0"
            ],
            [
             0.7,
             "#b8e186"
            ],
            [
             0.8,
             "#7fbc41"
            ],
            [
             0.9,
             "#4d9221"
            ],
            [
             1,
             "#276419"
            ]
           ],
           "sequential": [
            [
             0,
             "#0d0887"
            ],
            [
             0.1111111111111111,
             "#46039f"
            ],
            [
             0.2222222222222222,
             "#7201a8"
            ],
            [
             0.3333333333333333,
             "#9c179e"
            ],
            [
             0.4444444444444444,
             "#bd3786"
            ],
            [
             0.5555555555555556,
             "#d8576b"
            ],
            [
             0.6666666666666666,
             "#ed7953"
            ],
            [
             0.7777777777777778,
             "#fb9f3a"
            ],
            [
             0.8888888888888888,
             "#fdca26"
            ],
            [
             1,
             "#f0f921"
            ]
           ],
           "sequentialminus": [
            [
             0,
             "#0d0887"
            ],
            [
             0.1111111111111111,
             "#46039f"
            ],
            [
             0.2222222222222222,
             "#7201a8"
            ],
            [
             0.3333333333333333,
             "#9c179e"
            ],
            [
             0.4444444444444444,
             "#bd3786"
            ],
            [
             0.5555555555555556,
             "#d8576b"
            ],
            [
             0.6666666666666666,
             "#ed7953"
            ],
            [
             0.7777777777777778,
             "#fb9f3a"
            ],
            [
             0.8888888888888888,
             "#fdca26"
            ],
            [
             1,
             "#f0f921"
            ]
           ]
          },
          "colorway": [
           "#636efa",
           "#EF553B",
           "#00cc96",
           "#ab63fa",
           "#FFA15A",
           "#19d3f3",
           "#FF6692",
           "#B6E880",
           "#FF97FF",
           "#FECB52"
          ],
          "font": {
           "color": "#2a3f5f"
          },
          "geo": {
           "bgcolor": "white",
           "lakecolor": "white",
           "landcolor": "#E5ECF6",
           "showlakes": true,
           "showland": true,
           "subunitcolor": "white"
          },
          "hoverlabel": {
           "align": "left"
          },
          "hovermode": "closest",
          "mapbox": {
           "style": "light"
          },
          "paper_bgcolor": "white",
          "plot_bgcolor": "#E5ECF6",
          "polar": {
           "angularaxis": {
            "gridcolor": "white",
            "linecolor": "white",
            "ticks": ""
           },
           "bgcolor": "#E5ECF6",
           "radialaxis": {
            "gridcolor": "white",
            "linecolor": "white",
            "ticks": ""
           }
          },
          "scene": {
           "xaxis": {
            "backgroundcolor": "#E5ECF6",
            "gridcolor": "white",
            "gridwidth": 2,
            "linecolor": "white",
            "showbackground": true,
            "ticks": "",
            "zerolinecolor": "white"
           },
           "yaxis": {
            "backgroundcolor": "#E5ECF6",
            "gridcolor": "white",
            "gridwidth": 2,
            "linecolor": "white",
            "showbackground": true,
            "ticks": "",
            "zerolinecolor": "white"
           },
           "zaxis": {
            "backgroundcolor": "#E5ECF6",
            "gridcolor": "white",
            "gridwidth": 2,
            "linecolor": "white",
            "showbackground": true,
            "ticks": "",
            "zerolinecolor": "white"
           }
          },
          "shapedefaults": {
           "line": {
            "color": "#2a3f5f"
           }
          },
          "ternary": {
           "aaxis": {
            "gridcolor": "white",
            "linecolor": "white",
            "ticks": ""
           },
           "baxis": {
            "gridcolor": "white",
            "linecolor": "white",
            "ticks": ""
           },
           "bgcolor": "#E5ECF6",
           "caxis": {
            "gridcolor": "white",
            "linecolor": "white",
            "ticks": ""
           }
          },
          "title": {
           "x": 0.05
          },
          "xaxis": {
           "automargin": true,
           "gridcolor": "white",
           "linecolor": "white",
           "ticks": "",
           "title": {
            "standoff": 15
           },
           "zerolinecolor": "white",
           "zerolinewidth": 2
          },
          "yaxis": {
           "automargin": true,
           "gridcolor": "white",
           "linecolor": "white",
           "ticks": "",
           "title": {
            "standoff": 15
           },
           "zerolinecolor": "white",
           "zerolinewidth": 2
          }
         }
        },
        "title": {
         "text": "RCS vs Observation Angle"
        },
        "xaxis": {
         "dtick": 20,
         "title": {
          "text": "Observation angle (Degree)"
         }
        },
        "yaxis": {
         "title": {
          "text": "RCS (dBsm)"
         }
        }
       }
      }
     },
     "metadata": {},
     "output_type": "display_data"
    }
   ],
   "source": [
    "import plotly.graph_objs as go\n",
    "import plotly.express as px\n",
    "fig = go.Figure()\n",
    "\n",
    "fig = px.line_polar(r=rcs,                   \n",
    "                    theta=phi,\n",
    "                    line_close=True,\n",
    "                    range_r=[-40, 40],\n",
    "                    title='RCS vs Observation Angle',\n",
    "                    labels={'r': 'RCS (dBsm)', 'theta': 'Observation angle (Degree)'},\n",
    "                    line_shape='spline',\n",
    "                        )\n",
    "                        \n",
    "\n",
    "fig.update_layout(\n",
    "    title='RCS vs Observation Angle',\n",
    "    yaxis=dict(title='RCS (dBsm)'),\n",
    "    xaxis=dict(title='Observation angle (Degree)', dtick=20),\n",
    ")\n",
    "\n",
    "# uncomment this to display interactive plot\n",
    "fig.show()\n",
    "\n",
    "# display static image to reduce size on radarsimx.com\n",
    "# img_bytes = fig.to_image(format=\"jpg\", scale=2)\n",
    "# display(Image(img_bytes))"
   ]
  }
 ],
 "metadata": {
  "kernelspec": {
   "display_name": "vsppytools",
   "language": "python",
   "name": "python3"
  },
  "language_info": {
   "codemirror_mode": {
    "name": "ipython",
    "version": 3
   },
   "file_extension": ".py",
   "mimetype": "text/x-python",
   "name": "python",
   "nbconvert_exporter": "python",
   "pygments_lexer": "ipython3",
   "version": "3.11.8"
  }
 },
 "nbformat": 4,
 "nbformat_minor": 2
}
