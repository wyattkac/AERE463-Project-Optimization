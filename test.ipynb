{
 "cells": [
  {
   "cell_type": "code",
   "execution_count": 1,
   "metadata": {},
   "outputs": [
    {
     "name": "stdout",
     "output_type": "stream",
     "text": [
      "`RadarSimPy` used in this example is version: 12.1.0\n"
     ]
    }
   ],
   "source": [
    "import radarsimpygpu\n",
    "print('`RadarSimPy` used in this example is version: ' +\n",
    "      str(radarsimpygpu.__version__))"
   ]
  },
  {
   "cell_type": "code",
   "execution_count": 2,
   "metadata": {},
   "outputs": [],
   "source": [
    "import pymeshlab\n",
    "import numpy as np\n",
    "\n",
    "target = {\n",
    "        \"model\": 'C:/Users/Nicholas/Documents/ISU Spring 2024/AERE 463/AERE463-Project-Optimization/cr.stl',\n",
    "        \"location\": (0, 0, 0),\n",
    "    }"
   ]
  },
  {
   "cell_type": "code",
   "execution_count": 3,
   "metadata": {},
   "outputs": [],
   "source": [
    "import plotly.graph_objs as go\n",
    "from IPython.display import Image\n",
    "\n",
    "ms = pymeshlab.MeshSet()\n",
    "ms.load_new_mesh(target['model'])\n",
    "t_mesh = ms.current_mesh()\n",
    "v_matrix = np.array(t_mesh.vertex_matrix())\n",
    "f_matrix = np.array(t_mesh.face_matrix())\n",
    "\n",
    "fig = go.Figure()\n",
    "fig.add_trace(go.Mesh3d(x=v_matrix[:, 0],\n",
    "                        y=v_matrix[:, 1],\n",
    "                        z=v_matrix[:, 2],\n",
    "                        i=f_matrix[:, 0],\n",
    "                        j=f_matrix[:, 1],\n",
    "                        k=f_matrix[:, 2],\n",
    "                        intensity=v_matrix[:, 2],\n",
    "                        colorscale='Viridis'\n",
    "                        ))\n",
    "fig['layout']['scene']['aspectmode'] = \"data\"\n",
    "fig['layout']['height'] = 800\n",
    "\n",
    "# uncomment this to display interactive plot\n",
    "# fig.show()\n",
    "\n",
    "# display static image to reduce size on radarsimx.com\n",
    "img_bytes = fig.to_image(format=\"jpg\", scale=2)\n",
    "display(Image(img_bytes))"
   ]
  },
  {
   "cell_type": "code",
   "execution_count": 4,
   "metadata": {},
   "outputs": [
    {
     "name": "stdout",
     "output_type": "stream",
     "text": [
      "Exec time :7.342607021331787s\n"
     ]
    }
   ],
   "source": [
    "import time\n",
    "from radarsimpy.rt import rcs_sbr\n",
    "\n",
    "phi = 0\n",
    "theta = 90\n",
    "freq = np.arange(1, 79, 1)*1e9\n",
    "pol = [0, 1, 0]\n",
    "density = 10\n",
    "\n",
    "rcs = np.zeros_like(freq)\n",
    "\n",
    "tic = time.time()\n",
    "for f_idx, f in enumerate(freq):\n",
    "    rcs[f_idx] = 10*np.log10(\n",
    "        rcs_sbr([target],\n",
    "                f,\n",
    "                phi,\n",
    "                theta,\n",
    "                pol=pol,\n",
    "                density=density))\n",
    "toc = time.time()\n",
    "\n",
    "print('Exec time :'+str(toc-tic) + 's')"
   ]
  },
  {
   "cell_type": "code",
   "execution_count": 5,
   "metadata": {},
   "outputs": [],
   "source": [
    "fig = go.Figure()\n",
    "\n",
    "fig.add_trace(go.Scatter(x=freq/1e9, y=rcs))\n",
    "\n",
    "fig.update_layout(\n",
    "    title='RCS vs Frequency',\n",
    "    yaxis=dict(title='RCS (dBsm)'),\n",
    "    xaxis=dict(title='Frequency (GHz)', dtick=10),\n",
    ")\n",
    "\n",
    "# uncomment this to display interactive plot\n",
    "# fig.show()\n",
    "\n",
    "# display static image to reduce size on radarsimx.com\n",
    "img_bytes = fig.to_image(format=\"jpg\", scale=2)\n",
    "display(Image(img_bytes))"
   ]
  },
  {
   "cell_type": "markdown",
   "metadata": {},
   "source": [
    "# Simulate RCS vs Observation Angle"
   ]
  },
  {
   "cell_type": "code",
   "execution_count": null,
   "metadata": {},
   "outputs": [],
   "source": [
    "phi = np.arange(-90, 90, 0.5)\n",
    "theta = 90\n",
    "freq = 77e9\n",
    "pol = [0, 0, 1]\n",
    "density = 1\n",
    "\n",
    "rcs = np.zeros_like(phi)\n",
    "\n",
    "tic = time.time()\n",
    "for phi_idx, phi_ang in enumerate(phi):\n",
    "    rcs[phi_idx] = 10 * np.log10(\n",
    "        rcs_sbr([target],\n",
    "                freq,\n",
    "                phi_ang,\n",
    "                theta,\n",
    "                pol=pol,\n",
    "                density=density))\n",
    "toc = time.time()\n",
    "\n",
    "print('Exec time :'+str(toc-tic) + 's')"
   ]
  },
  {
   "cell_type": "code",
   "execution_count": null,
   "metadata": {},
   "outputs": [],
   "source": [
    "fig = go.Figure()\n",
    "\n",
    "fig.add_trace(go.Scatter(x=phi, y=rcs))\n",
    "\n",
    "fig.update_layout(\n",
    "    title='RCS vs Observation Angle',\n",
    "    yaxis=dict(title='RCS (dBsm)'),\n",
    "    xaxis=dict(title='Observation angle (Degree)', dtick=20),\n",
    ")\n",
    "\n",
    "# uncomment this to display interactive plot\n",
    "# fig.show()\n",
    "\n",
    "# display static image to reduce size on radarsimx.com\n",
    "img_bytes = fig.to_image(format=\"jpg\", scale=2)\n",
    "display(Image(img_bytes))"
   ]
  }
 ],
 "metadata": {
  "kernelspec": {
   "display_name": "vsppytools",
   "language": "python",
   "name": "python3"
  },
  "language_info": {
   "codemirror_mode": {
    "name": "ipython",
    "version": 3
   },
   "file_extension": ".py",
   "mimetype": "text/x-python",
   "name": "python",
   "nbconvert_exporter": "python",
   "pygments_lexer": "ipython3",
   "version": "3.11.8"
  }
 },
 "nbformat": 4,
 "nbformat_minor": 2
}
