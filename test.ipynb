{
 "cells": [
  {
   "cell_type": "code",
   "execution_count": 1,
   "metadata": {},
   "outputs": [
    {
     "name": "stdout",
     "output_type": "stream",
     "text": [
      "`RadarSimPy` used in this example is version: 12.1.0\n"
     ]
    }
   ],
   "source": [
    "import radarsimpy\n",
    "print('`RadarSimPy` used in this example is version: ' +\n",
    "      str(radarsimpy.__version__))"
   ]
  },
  {
   "cell_type": "code",
   "execution_count": 2,
   "metadata": {},
   "outputs": [],
   "source": [
    "import pymeshlab\n",
    "import numpy as np\n",
    "\n",
    "target = {\n",
    "        \"model\": 'C:\\\\Users\\\\Nicholas\\\\Documents\\\\ISU Spring 2024\\\\AERE 463\\\\AERE463-Project-Optimization\\\\lamborgini_aventador.stl',\n",
    "        # \"model\": 'C:/Users/Nicholas/Documents/ISU Spring 2024/AERE 463/AERE463-Project-Optimization/cr.stl',\n",
    "        \"location\": (0, 0, 0),\n",
    "    }"
   ]
  },
  {
   "cell_type": "code",
   "execution_count": 3,
   "metadata": {},
   "outputs": [
    {
     "data": {
      "application/vnd.plotly.v1+json": {
       "config": {
        "plotlyServerURL": "https://plot.ly"
       },
       "data": [
        {
         "colorscale": [
          [
           0,
           "#440154"
          ],
          [
           0.1111111111111111,
           "#482878"
          ],
          [
           0.2222222222222222,
           "#3e4989"
          ],
          [
           0.3333333333333333,
           "#31688e"
          ],
          [
           0.4444444444444444,
           "#26828e"
          ],
          [
           0.5555555555555556,
           "#1f9e89"
          ],
          [
           0.6666666666666666,
           "#35b779"
          ],
          [
           0.7777777777777778,
           "#6ece58"
          ],
          [
           0.8888888888888888,
           "#b5de2b"
          ],
          [
           1,
           "#fde725"
          ]
         ],
         "i": [
          0,
          0,
          0
         ],
         "intensity": [
          0,
          0.08164966106414795,
          -0.040824830532073975,
          -0.040824830532073975
         ],
         "j": [
          1,
          2,
          3
         ],
         "k": [
          2,
          3,
          1
         ],
         "type": "mesh3d",
         "x": [
          0,
          -0.05773502588272095,
          -0.05773502588272095,
          -0.05773502588272095
         ],
         "y": [
          0,
          0,
          0.0707106813788414,
          -0.0707106813788414
         ],
         "z": [
          0,
          0.08164966106414795,
          -0.040824830532073975,
          -0.040824830532073975
         ]
        }
       ],
       "layout": {
        "height": 800,
        "scene": {
         "aspectmode": "data"
        },
        "template": {
         "data": {
          "bar": [
           {
            "error_x": {
             "color": "#2a3f5f"
            },
            "error_y": {
             "color": "#2a3f5f"
            },
            "marker": {
             "line": {
              "color": "#E5ECF6",
              "width": 0.5
             },
             "pattern": {
              "fillmode": "overlay",
              "size": 10,
              "solidity": 0.2
             }
            },
            "type": "bar"
           }
          ],
          "barpolar": [
           {
            "marker": {
             "line": {
              "color": "#E5ECF6",
              "width": 0.5
             },
             "pattern": {
              "fillmode": "overlay",
              "size": 10,
              "solidity": 0.2
             }
            },
            "type": "barpolar"
           }
          ],
          "carpet": [
           {
            "aaxis": {
             "endlinecolor": "#2a3f5f",
             "gridcolor": "white",
             "linecolor": "white",
             "minorgridcolor": "white",
             "startlinecolor": "#2a3f5f"
            },
            "baxis": {
             "endlinecolor": "#2a3f5f",
             "gridcolor": "white",
             "linecolor": "white",
             "minorgridcolor": "white",
             "startlinecolor": "#2a3f5f"
            },
            "type": "carpet"
           }
          ],
          "choropleth": [
           {
            "colorbar": {
             "outlinewidth": 0,
             "ticks": ""
            },
            "type": "choropleth"
           }
          ],
          "contour": [
           {
            "colorbar": {
             "outlinewidth": 0,
             "ticks": ""
            },
            "colorscale": [
             [
              0,
              "#0d0887"
             ],
             [
              0.1111111111111111,
              "#46039f"
             ],
             [
              0.2222222222222222,
              "#7201a8"
             ],
             [
              0.3333333333333333,
              "#9c179e"
             ],
             [
              0.4444444444444444,
              "#bd3786"
             ],
             [
              0.5555555555555556,
              "#d8576b"
             ],
             [
              0.6666666666666666,
              "#ed7953"
             ],
             [
              0.7777777777777778,
              "#fb9f3a"
             ],
             [
              0.8888888888888888,
              "#fdca26"
             ],
             [
              1,
              "#f0f921"
             ]
            ],
            "type": "contour"
           }
          ],
          "contourcarpet": [
           {
            "colorbar": {
             "outlinewidth": 0,
             "ticks": ""
            },
            "type": "contourcarpet"
           }
          ],
          "heatmap": [
           {
            "colorbar": {
             "outlinewidth": 0,
             "ticks": ""
            },
            "colorscale": [
             [
              0,
              "#0d0887"
             ],
             [
              0.1111111111111111,
              "#46039f"
             ],
             [
              0.2222222222222222,
              "#7201a8"
             ],
             [
              0.3333333333333333,
              "#9c179e"
             ],
             [
              0.4444444444444444,
              "#bd3786"
             ],
             [
              0.5555555555555556,
              "#d8576b"
             ],
             [
              0.6666666666666666,
              "#ed7953"
             ],
             [
              0.7777777777777778,
              "#fb9f3a"
             ],
             [
              0.8888888888888888,
              "#fdca26"
             ],
             [
              1,
              "#f0f921"
             ]
            ],
            "type": "heatmap"
           }
          ],
          "heatmapgl": [
           {
            "colorbar": {
             "outlinewidth": 0,
             "ticks": ""
            },
            "colorscale": [
             [
              0,
              "#0d0887"
             ],
             [
              0.1111111111111111,
              "#46039f"
             ],
             [
              0.2222222222222222,
              "#7201a8"
             ],
             [
              0.3333333333333333,
              "#9c179e"
             ],
             [
              0.4444444444444444,
              "#bd3786"
             ],
             [
              0.5555555555555556,
              "#d8576b"
             ],
             [
              0.6666666666666666,
              "#ed7953"
             ],
             [
              0.7777777777777778,
              "#fb9f3a"
             ],
             [
              0.8888888888888888,
              "#fdca26"
             ],
             [
              1,
              "#f0f921"
             ]
            ],
            "type": "heatmapgl"
           }
          ],
          "histogram": [
           {
            "marker": {
             "pattern": {
              "fillmode": "overlay",
              "size": 10,
              "solidity": 0.2
             }
            },
            "type": "histogram"
           }
          ],
          "histogram2d": [
           {
            "colorbar": {
             "outlinewidth": 0,
             "ticks": ""
            },
            "colorscale": [
             [
              0,
              "#0d0887"
             ],
             [
              0.1111111111111111,
              "#46039f"
             ],
             [
              0.2222222222222222,
              "#7201a8"
             ],
             [
              0.3333333333333333,
              "#9c179e"
             ],
             [
              0.4444444444444444,
              "#bd3786"
             ],
             [
              0.5555555555555556,
              "#d8576b"
             ],
             [
              0.6666666666666666,
              "#ed7953"
             ],
             [
              0.7777777777777778,
              "#fb9f3a"
             ],
             [
              0.8888888888888888,
              "#fdca26"
             ],
             [
              1,
              "#f0f921"
             ]
            ],
            "type": "histogram2d"
           }
          ],
          "histogram2dcontour": [
           {
            "colorbar": {
             "outlinewidth": 0,
             "ticks": ""
            },
            "colorscale": [
             [
              0,
              "#0d0887"
             ],
             [
              0.1111111111111111,
              "#46039f"
             ],
             [
              0.2222222222222222,
              "#7201a8"
             ],
             [
              0.3333333333333333,
              "#9c179e"
             ],
             [
              0.4444444444444444,
              "#bd3786"
             ],
             [
              0.5555555555555556,
              "#d8576b"
             ],
             [
              0.6666666666666666,
              "#ed7953"
             ],
             [
              0.7777777777777778,
              "#fb9f3a"
             ],
             [
              0.8888888888888888,
              "#fdca26"
             ],
             [
              1,
              "#f0f921"
             ]
            ],
            "type": "histogram2dcontour"
           }
          ],
          "mesh3d": [
           {
            "colorbar": {
             "outlinewidth": 0,
             "ticks": ""
            },
            "type": "mesh3d"
           }
          ],
          "parcoords": [
           {
            "line": {
             "colorbar": {
              "outlinewidth": 0,
              "ticks": ""
             }
            },
            "type": "parcoords"
           }
          ],
          "pie": [
           {
            "automargin": true,
            "type": "pie"
           }
          ],
          "scatter": [
           {
            "fillpattern": {
             "fillmode": "overlay",
             "size": 10,
             "solidity": 0.2
            },
            "type": "scatter"
           }
          ],
          "scatter3d": [
           {
            "line": {
             "colorbar": {
              "outlinewidth": 0,
              "ticks": ""
             }
            },
            "marker": {
             "colorbar": {
              "outlinewidth": 0,
              "ticks": ""
             }
            },
            "type": "scatter3d"
           }
          ],
          "scattercarpet": [
           {
            "marker": {
             "colorbar": {
              "outlinewidth": 0,
              "ticks": ""
             }
            },
            "type": "scattercarpet"
           }
          ],
          "scattergeo": [
           {
            "marker": {
             "colorbar": {
              "outlinewidth": 0,
              "ticks": ""
             }
            },
            "type": "scattergeo"
           }
          ],
          "scattergl": [
           {
            "marker": {
             "colorbar": {
              "outlinewidth": 0,
              "ticks": ""
             }
            },
            "type": "scattergl"
           }
          ],
          "scattermapbox": [
           {
            "marker": {
             "colorbar": {
              "outlinewidth": 0,
              "ticks": ""
             }
            },
            "type": "scattermapbox"
           }
          ],
          "scatterpolar": [
           {
            "marker": {
             "colorbar": {
              "outlinewidth": 0,
              "ticks": ""
             }
            },
            "type": "scatterpolar"
           }
          ],
          "scatterpolargl": [
           {
            "marker": {
             "colorbar": {
              "outlinewidth": 0,
              "ticks": ""
             }
            },
            "type": "scatterpolargl"
           }
          ],
          "scatterternary": [
           {
            "marker": {
             "colorbar": {
              "outlinewidth": 0,
              "ticks": ""
             }
            },
            "type": "scatterternary"
           }
          ],
          "surface": [
           {
            "colorbar": {
             "outlinewidth": 0,
             "ticks": ""
            },
            "colorscale": [
             [
              0,
              "#0d0887"
             ],
             [
              0.1111111111111111,
              "#46039f"
             ],
             [
              0.2222222222222222,
              "#7201a8"
             ],
             [
              0.3333333333333333,
              "#9c179e"
             ],
             [
              0.4444444444444444,
              "#bd3786"
             ],
             [
              0.5555555555555556,
              "#d8576b"
             ],
             [
              0.6666666666666666,
              "#ed7953"
             ],
             [
              0.7777777777777778,
              "#fb9f3a"
             ],
             [
              0.8888888888888888,
              "#fdca26"
             ],
             [
              1,
              "#f0f921"
             ]
            ],
            "type": "surface"
           }
          ],
          "table": [
           {
            "cells": {
             "fill": {
              "color": "#EBF0F8"
             },
             "line": {
              "color": "white"
             }
            },
            "header": {
             "fill": {
              "color": "#C8D4E3"
             },
             "line": {
              "color": "white"
             }
            },
            "type": "table"
           }
          ]
         },
         "layout": {
          "annotationdefaults": {
           "arrowcolor": "#2a3f5f",
           "arrowhead": 0,
           "arrowwidth": 1
          },
          "autotypenumbers": "strict",
          "coloraxis": {
           "colorbar": {
            "outlinewidth": 0,
            "ticks": ""
           }
          },
          "colorscale": {
           "diverging": [
            [
             0,
             "#8e0152"
            ],
            [
             0.1,
             "#c51b7d"
            ],
            [
             0.2,
             "#de77ae"
            ],
            [
             0.3,
             "#f1b6da"
            ],
            [
             0.4,
             "#fde0ef"
            ],
            [
             0.5,
             "#f7f7f7"
            ],
            [
             0.6,
             "#e6f5d0"
            ],
            [
             0.7,
             "#b8e186"
            ],
            [
             0.8,
             "#7fbc41"
            ],
            [
             0.9,
             "#4d9221"
            ],
            [
             1,
             "#276419"
            ]
           ],
           "sequential": [
            [
             0,
             "#0d0887"
            ],
            [
             0.1111111111111111,
             "#46039f"
            ],
            [
             0.2222222222222222,
             "#7201a8"
            ],
            [
             0.3333333333333333,
             "#9c179e"
            ],
            [
             0.4444444444444444,
             "#bd3786"
            ],
            [
             0.5555555555555556,
             "#d8576b"
            ],
            [
             0.6666666666666666,
             "#ed7953"
            ],
            [
             0.7777777777777778,
             "#fb9f3a"
            ],
            [
             0.8888888888888888,
             "#fdca26"
            ],
            [
             1,
             "#f0f921"
            ]
           ],
           "sequentialminus": [
            [
             0,
             "#0d0887"
            ],
            [
             0.1111111111111111,
             "#46039f"
            ],
            [
             0.2222222222222222,
             "#7201a8"
            ],
            [
             0.3333333333333333,
             "#9c179e"
            ],
            [
             0.4444444444444444,
             "#bd3786"
            ],
            [
             0.5555555555555556,
             "#d8576b"
            ],
            [
             0.6666666666666666,
             "#ed7953"
            ],
            [
             0.7777777777777778,
             "#fb9f3a"
            ],
            [
             0.8888888888888888,
             "#fdca26"
            ],
            [
             1,
             "#f0f921"
            ]
           ]
          },
          "colorway": [
           "#636efa",
           "#EF553B",
           "#00cc96",
           "#ab63fa",
           "#FFA15A",
           "#19d3f3",
           "#FF6692",
           "#B6E880",
           "#FF97FF",
           "#FECB52"
          ],
          "font": {
           "color": "#2a3f5f"
          },
          "geo": {
           "bgcolor": "white",
           "lakecolor": "white",
           "landcolor": "#E5ECF6",
           "showlakes": true,
           "showland": true,
           "subunitcolor": "white"
          },
          "hoverlabel": {
           "align": "left"
          },
          "hovermode": "closest",
          "mapbox": {
           "style": "light"
          },
          "paper_bgcolor": "white",
          "plot_bgcolor": "#E5ECF6",
          "polar": {
           "angularaxis": {
            "gridcolor": "white",
            "linecolor": "white",
            "ticks": ""
           },
           "bgcolor": "#E5ECF6",
           "radialaxis": {
            "gridcolor": "white",
            "linecolor": "white",
            "ticks": ""
           }
          },
          "scene": {
           "xaxis": {
            "backgroundcolor": "#E5ECF6",
            "gridcolor": "white",
            "gridwidth": 2,
            "linecolor": "white",
            "showbackground": true,
            "ticks": "",
            "zerolinecolor": "white"
           },
           "yaxis": {
            "backgroundcolor": "#E5ECF6",
            "gridcolor": "white",
            "gridwidth": 2,
            "linecolor": "white",
            "showbackground": true,
            "ticks": "",
            "zerolinecolor": "white"
           },
           "zaxis": {
            "backgroundcolor": "#E5ECF6",
            "gridcolor": "white",
            "gridwidth": 2,
            "linecolor": "white",
            "showbackground": true,
            "ticks": "",
            "zerolinecolor": "white"
           }
          },
          "shapedefaults": {
           "line": {
            "color": "#2a3f5f"
           }
          },
          "ternary": {
           "aaxis": {
            "gridcolor": "white",
            "linecolor": "white",
            "ticks": ""
           },
           "baxis": {
            "gridcolor": "white",
            "linecolor": "white",
            "ticks": ""
           },
           "bgcolor": "#E5ECF6",
           "caxis": {
            "gridcolor": "white",
            "linecolor": "white",
            "ticks": ""
           }
          },
          "title": {
           "x": 0.05
          },
          "xaxis": {
           "automargin": true,
           "gridcolor": "white",
           "linecolor": "white",
           "ticks": "",
           "title": {
            "standoff": 15
           },
           "zerolinecolor": "white",
           "zerolinewidth": 2
          },
          "yaxis": {
           "automargin": true,
           "gridcolor": "white",
           "linecolor": "white",
           "ticks": "",
           "title": {
            "standoff": 15
           },
           "zerolinecolor": "white",
           "zerolinewidth": 2
          }
         }
        }
       }
      }
     },
     "metadata": {},
     "output_type": "display_data"
    }
   ],
   "source": [
    "import plotly.graph_objs as go\n",
    "from IPython.display import Image\n",
    "\n",
    "ms = pymeshlab.MeshSet()\n",
    "ms.load_new_mesh(target['model'])\n",
    "t_mesh = ms.current_mesh()\n",
    "v_matrix = np.array(t_mesh.vertex_matrix())\n",
    "f_matrix = np.array(t_mesh.face_matrix())\n",
    "\n",
    "fig = go.Figure()\n",
    "fig.add_trace(go.Mesh3d(x=v_matrix[:, 0],\n",
    "                        y=v_matrix[:, 1],\n",
    "                        z=v_matrix[:, 2],\n",
    "                        i=f_matrix[:, 0],\n",
    "                        j=f_matrix[:, 1],\n",
    "                        k=f_matrix[:, 2],\n",
    "                        intensity=v_matrix[:, 2],\n",
    "                        colorscale='Viridis'\n",
    "                        ))\n",
    "fig['layout']['scene']['aspectmode'] = \"data\"\n",
    "fig['layout']['height'] = 800\n",
    "\n",
    "# uncomment this to display interactive plot\n",
    "fig.show()\n",
    "\n",
    "# display static image to reduce size on radarsimx.com\n",
    "# img_bytes = fig.to_image(format=\"jpg\", scale=2)\n",
    "# display(Image(img_bytes))"
   ]
  },
  {
   "cell_type": "code",
   "execution_count": 4,
   "metadata": {},
   "outputs": [
    {
     "name": "stdout",
     "output_type": "stream",
     "text": [
      "Exec time :7.621943235397339s\n"
     ]
    }
   ],
   "source": [
    "import time\n",
    "from radarsimpy.rt import rcs_sbr\n",
    "\n",
    "phi = 0\n",
    "theta = 90\n",
    "freq = np.arange(1, 79, 1)*1e9\n",
    "pol = [0, 1, 0]\n",
    "density = 10\n",
    "\n",
    "rcs = np.zeros_like(freq)\n",
    "\n",
    "tic = time.time()\n",
    "for f_idx, f in enumerate(freq):\n",
    "    rcs[f_idx] = 10*np.log10(\n",
    "        rcs_sbr([target],\n",
    "                f,\n",
    "                phi,\n",
    "                theta,\n",
    "                pol=pol,\n",
    "                density=density))\n",
    "toc = time.time()\n",
    "\n",
    "print('Exec time :'+str(toc-tic) + 's')"
   ]
  },
  {
   "cell_type": "code",
   "execution_count": 5,
   "metadata": {},
   "outputs": [
    {
     "data": {
      "application/vnd.plotly.v1+json": {
       "config": {
        "plotlyServerURL": "https://plot.ly"
       },
       "data": [
        {
         "type": "scatter",
         "x": [
          1,
          2,
          3,
          4,
          5,
          6,
          7,
          8,
          9,
          10,
          11,
          12,
          13,
          14,
          15,
          16,
          17,
          18,
          19,
          20,
          21,
          22,
          23,
          24,
          25,
          26,
          27,
          28,
          29,
          30,
          31,
          32,
          33,
          34,
          35,
          36,
          37,
          38,
          39,
          40,
          41,
          42,
          43,
          44,
          45,
          46,
          47,
          48,
          49,
          50,
          51,
          52,
          53,
          54,
          55,
          56,
          57,
          58,
          59,
          60,
          61,
          62,
          63,
          64,
          65,
          66,
          67,
          68,
          69,
          70,
          71,
          72,
          73,
          74,
          75,
          76,
          77,
          78
         ],
         "y": [
          -25.257819858258046,
          -16.544196772041964,
          -15.477058780881595,
          -12.463517188995459,
          -10.616431706695815,
          -8.537972482678592,
          -6.718254043852912,
          -6.614480714773814,
          -5.123270576233422,
          -3.6723940269390196,
          -3.10084632762133,
          -2.5084682465133885,
          -2.014720909033834,
          -0.9912640968811777,
          -0.24253917302643588,
          -0.3193812162112053,
          0.7569101025344265,
          1.186375146642901,
          1.4472241996360027,
          1.9406975952810455,
          2.4199981777235817,
          2.898125058314772,
          3.2151095909579572,
          3.436018466982203,
          4.0340330761798535,
          4.393391473392276,
          4.503398974068737,
          5.026057943988965,
          5.248878793454626,
          5.52829956872827,
          5.844994439910928,
          5.9510805803370745,
          6.605965923762698,
          6.575299632427542,
          6.777916506790117,
          7.284039381691212,
          7.336855117325189,
          7.527612026695336,
          7.800806683816423,
          8.04215606081865,
          8.408976655857415,
          8.367304995708134,
          8.61226602381029,
          8.970058605461315,
          9.080511059746911,
          9.338597348559889,
          9.388963253487773,
          9.655289683693585,
          9.840893116608676,
          9.92563789893123,
          10.208391725357975,
          10.38365811090622,
          10.450011407737922,
          10.696359796050958,
          10.838739785619493,
          10.974431235064843,
          11.131276393118785,
          11.204963995910306,
          11.54216215767471,
          11.582639494823708,
          11.660904431188587,
          11.911520261028938,
          11.999543328829729,
          12.27003912342741,
          12.288732043033509,
          12.411511199943474,
          12.649485745176996,
          12.613799039888537,
          12.864963539613221,
          13.00036891777122,
          13.02178966003771,
          13.228024264338078,
          13.229960025801056,
          13.391347495886697,
          13.60323125126327,
          13.57324982149428,
          13.798246731192263,
          13.868530299883435
         ]
        }
       ],
       "layout": {
        "template": {
         "data": {
          "bar": [
           {
            "error_x": {
             "color": "#2a3f5f"
            },
            "error_y": {
             "color": "#2a3f5f"
            },
            "marker": {
             "line": {
              "color": "#E5ECF6",
              "width": 0.5
             },
             "pattern": {
              "fillmode": "overlay",
              "size": 10,
              "solidity": 0.2
             }
            },
            "type": "bar"
           }
          ],
          "barpolar": [
           {
            "marker": {
             "line": {
              "color": "#E5ECF6",
              "width": 0.5
             },
             "pattern": {
              "fillmode": "overlay",
              "size": 10,
              "solidity": 0.2
             }
            },
            "type": "barpolar"
           }
          ],
          "carpet": [
           {
            "aaxis": {
             "endlinecolor": "#2a3f5f",
             "gridcolor": "white",
             "linecolor": "white",
             "minorgridcolor": "white",
             "startlinecolor": "#2a3f5f"
            },
            "baxis": {
             "endlinecolor": "#2a3f5f",
             "gridcolor": "white",
             "linecolor": "white",
             "minorgridcolor": "white",
             "startlinecolor": "#2a3f5f"
            },
            "type": "carpet"
           }
          ],
          "choropleth": [
           {
            "colorbar": {
             "outlinewidth": 0,
             "ticks": ""
            },
            "type": "choropleth"
           }
          ],
          "contour": [
           {
            "colorbar": {
             "outlinewidth": 0,
             "ticks": ""
            },
            "colorscale": [
             [
              0,
              "#0d0887"
             ],
             [
              0.1111111111111111,
              "#46039f"
             ],
             [
              0.2222222222222222,
              "#7201a8"
             ],
             [
              0.3333333333333333,
              "#9c179e"
             ],
             [
              0.4444444444444444,
              "#bd3786"
             ],
             [
              0.5555555555555556,
              "#d8576b"
             ],
             [
              0.6666666666666666,
              "#ed7953"
             ],
             [
              0.7777777777777778,
              "#fb9f3a"
             ],
             [
              0.8888888888888888,
              "#fdca26"
             ],
             [
              1,
              "#f0f921"
             ]
            ],
            "type": "contour"
           }
          ],
          "contourcarpet": [
           {
            "colorbar": {
             "outlinewidth": 0,
             "ticks": ""
            },
            "type": "contourcarpet"
           }
          ],
          "heatmap": [
           {
            "colorbar": {
             "outlinewidth": 0,
             "ticks": ""
            },
            "colorscale": [
             [
              0,
              "#0d0887"
             ],
             [
              0.1111111111111111,
              "#46039f"
             ],
             [
              0.2222222222222222,
              "#7201a8"
             ],
             [
              0.3333333333333333,
              "#9c179e"
             ],
             [
              0.4444444444444444,
              "#bd3786"
             ],
             [
              0.5555555555555556,
              "#d8576b"
             ],
             [
              0.6666666666666666,
              "#ed7953"
             ],
             [
              0.7777777777777778,
              "#fb9f3a"
             ],
             [
              0.8888888888888888,
              "#fdca26"
             ],
             [
              1,
              "#f0f921"
             ]
            ],
            "type": "heatmap"
           }
          ],
          "heatmapgl": [
           {
            "colorbar": {
             "outlinewidth": 0,
             "ticks": ""
            },
            "colorscale": [
             [
              0,
              "#0d0887"
             ],
             [
              0.1111111111111111,
              "#46039f"
             ],
             [
              0.2222222222222222,
              "#7201a8"
             ],
             [
              0.3333333333333333,
              "#9c179e"
             ],
             [
              0.4444444444444444,
              "#bd3786"
             ],
             [
              0.5555555555555556,
              "#d8576b"
             ],
             [
              0.6666666666666666,
              "#ed7953"
             ],
             [
              0.7777777777777778,
              "#fb9f3a"
             ],
             [
              0.8888888888888888,
              "#fdca26"
             ],
             [
              1,
              "#f0f921"
             ]
            ],
            "type": "heatmapgl"
           }
          ],
          "histogram": [
           {
            "marker": {
             "pattern": {
              "fillmode": "overlay",
              "size": 10,
              "solidity": 0.2
             }
            },
            "type": "histogram"
           }
          ],
          "histogram2d": [
           {
            "colorbar": {
             "outlinewidth": 0,
             "ticks": ""
            },
            "colorscale": [
             [
              0,
              "#0d0887"
             ],
             [
              0.1111111111111111,
              "#46039f"
             ],
             [
              0.2222222222222222,
              "#7201a8"
             ],
             [
              0.3333333333333333,
              "#9c179e"
             ],
             [
              0.4444444444444444,
              "#bd3786"
             ],
             [
              0.5555555555555556,
              "#d8576b"
             ],
             [
              0.6666666666666666,
              "#ed7953"
             ],
             [
              0.7777777777777778,
              "#fb9f3a"
             ],
             [
              0.8888888888888888,
              "#fdca26"
             ],
             [
              1,
              "#f0f921"
             ]
            ],
            "type": "histogram2d"
           }
          ],
          "histogram2dcontour": [
           {
            "colorbar": {
             "outlinewidth": 0,
             "ticks": ""
            },
            "colorscale": [
             [
              0,
              "#0d0887"
             ],
             [
              0.1111111111111111,
              "#46039f"
             ],
             [
              0.2222222222222222,
              "#7201a8"
             ],
             [
              0.3333333333333333,
              "#9c179e"
             ],
             [
              0.4444444444444444,
              "#bd3786"
             ],
             [
              0.5555555555555556,
              "#d8576b"
             ],
             [
              0.6666666666666666,
              "#ed7953"
             ],
             [
              0.7777777777777778,
              "#fb9f3a"
             ],
             [
              0.8888888888888888,
              "#fdca26"
             ],
             [
              1,
              "#f0f921"
             ]
            ],
            "type": "histogram2dcontour"
           }
          ],
          "mesh3d": [
           {
            "colorbar": {
             "outlinewidth": 0,
             "ticks": ""
            },
            "type": "mesh3d"
           }
          ],
          "parcoords": [
           {
            "line": {
             "colorbar": {
              "outlinewidth": 0,
              "ticks": ""
             }
            },
            "type": "parcoords"
           }
          ],
          "pie": [
           {
            "automargin": true,
            "type": "pie"
           }
          ],
          "scatter": [
           {
            "fillpattern": {
             "fillmode": "overlay",
             "size": 10,
             "solidity": 0.2
            },
            "type": "scatter"
           }
          ],
          "scatter3d": [
           {
            "line": {
             "colorbar": {
              "outlinewidth": 0,
              "ticks": ""
             }
            },
            "marker": {
             "colorbar": {
              "outlinewidth": 0,
              "ticks": ""
             }
            },
            "type": "scatter3d"
           }
          ],
          "scattercarpet": [
           {
            "marker": {
             "colorbar": {
              "outlinewidth": 0,
              "ticks": ""
             }
            },
            "type": "scattercarpet"
           }
          ],
          "scattergeo": [
           {
            "marker": {
             "colorbar": {
              "outlinewidth": 0,
              "ticks": ""
             }
            },
            "type": "scattergeo"
           }
          ],
          "scattergl": [
           {
            "marker": {
             "colorbar": {
              "outlinewidth": 0,
              "ticks": ""
             }
            },
            "type": "scattergl"
           }
          ],
          "scattermapbox": [
           {
            "marker": {
             "colorbar": {
              "outlinewidth": 0,
              "ticks": ""
             }
            },
            "type": "scattermapbox"
           }
          ],
          "scatterpolar": [
           {
            "marker": {
             "colorbar": {
              "outlinewidth": 0,
              "ticks": ""
             }
            },
            "type": "scatterpolar"
           }
          ],
          "scatterpolargl": [
           {
            "marker": {
             "colorbar": {
              "outlinewidth": 0,
              "ticks": ""
             }
            },
            "type": "scatterpolargl"
           }
          ],
          "scatterternary": [
           {
            "marker": {
             "colorbar": {
              "outlinewidth": 0,
              "ticks": ""
             }
            },
            "type": "scatterternary"
           }
          ],
          "surface": [
           {
            "colorbar": {
             "outlinewidth": 0,
             "ticks": ""
            },
            "colorscale": [
             [
              0,
              "#0d0887"
             ],
             [
              0.1111111111111111,
              "#46039f"
             ],
             [
              0.2222222222222222,
              "#7201a8"
             ],
             [
              0.3333333333333333,
              "#9c179e"
             ],
             [
              0.4444444444444444,
              "#bd3786"
             ],
             [
              0.5555555555555556,
              "#d8576b"
             ],
             [
              0.6666666666666666,
              "#ed7953"
             ],
             [
              0.7777777777777778,
              "#fb9f3a"
             ],
             [
              0.8888888888888888,
              "#fdca26"
             ],
             [
              1,
              "#f0f921"
             ]
            ],
            "type": "surface"
           }
          ],
          "table": [
           {
            "cells": {
             "fill": {
              "color": "#EBF0F8"
             },
             "line": {
              "color": "white"
             }
            },
            "header": {
             "fill": {
              "color": "#C8D4E3"
             },
             "line": {
              "color": "white"
             }
            },
            "type": "table"
           }
          ]
         },
         "layout": {
          "annotationdefaults": {
           "arrowcolor": "#2a3f5f",
           "arrowhead": 0,
           "arrowwidth": 1
          },
          "autotypenumbers": "strict",
          "coloraxis": {
           "colorbar": {
            "outlinewidth": 0,
            "ticks": ""
           }
          },
          "colorscale": {
           "diverging": [
            [
             0,
             "#8e0152"
            ],
            [
             0.1,
             "#c51b7d"
            ],
            [
             0.2,
             "#de77ae"
            ],
            [
             0.3,
             "#f1b6da"
            ],
            [
             0.4,
             "#fde0ef"
            ],
            [
             0.5,
             "#f7f7f7"
            ],
            [
             0.6,
             "#e6f5d0"
            ],
            [
             0.7,
             "#b8e186"
            ],
            [
             0.8,
             "#7fbc41"
            ],
            [
             0.9,
             "#4d9221"
            ],
            [
             1,
             "#276419"
            ]
           ],
           "sequential": [
            [
             0,
             "#0d0887"
            ],
            [
             0.1111111111111111,
             "#46039f"
            ],
            [
             0.2222222222222222,
             "#7201a8"
            ],
            [
             0.3333333333333333,
             "#9c179e"
            ],
            [
             0.4444444444444444,
             "#bd3786"
            ],
            [
             0.5555555555555556,
             "#d8576b"
            ],
            [
             0.6666666666666666,
             "#ed7953"
            ],
            [
             0.7777777777777778,
             "#fb9f3a"
            ],
            [
             0.8888888888888888,
             "#fdca26"
            ],
            [
             1,
             "#f0f921"
            ]
           ],
           "sequentialminus": [
            [
             0,
             "#0d0887"
            ],
            [
             0.1111111111111111,
             "#46039f"
            ],
            [
             0.2222222222222222,
             "#7201a8"
            ],
            [
             0.3333333333333333,
             "#9c179e"
            ],
            [
             0.4444444444444444,
             "#bd3786"
            ],
            [
             0.5555555555555556,
             "#d8576b"
            ],
            [
             0.6666666666666666,
             "#ed7953"
            ],
            [
             0.7777777777777778,
             "#fb9f3a"
            ],
            [
             0.8888888888888888,
             "#fdca26"
            ],
            [
             1,
             "#f0f921"
            ]
           ]
          },
          "colorway": [
           "#636efa",
           "#EF553B",
           "#00cc96",
           "#ab63fa",
           "#FFA15A",
           "#19d3f3",
           "#FF6692",
           "#B6E880",
           "#FF97FF",
           "#FECB52"
          ],
          "font": {
           "color": "#2a3f5f"
          },
          "geo": {
           "bgcolor": "white",
           "lakecolor": "white",
           "landcolor": "#E5ECF6",
           "showlakes": true,
           "showland": true,
           "subunitcolor": "white"
          },
          "hoverlabel": {
           "align": "left"
          },
          "hovermode": "closest",
          "mapbox": {
           "style": "light"
          },
          "paper_bgcolor": "white",
          "plot_bgcolor": "#E5ECF6",
          "polar": {
           "angularaxis": {
            "gridcolor": "white",
            "linecolor": "white",
            "ticks": ""
           },
           "bgcolor": "#E5ECF6",
           "radialaxis": {
            "gridcolor": "white",
            "linecolor": "white",
            "ticks": ""
           }
          },
          "scene": {
           "xaxis": {
            "backgroundcolor": "#E5ECF6",
            "gridcolor": "white",
            "gridwidth": 2,
            "linecolor": "white",
            "showbackground": true,
            "ticks": "",
            "zerolinecolor": "white"
           },
           "yaxis": {
            "backgroundcolor": "#E5ECF6",
            "gridcolor": "white",
            "gridwidth": 2,
            "linecolor": "white",
            "showbackground": true,
            "ticks": "",
            "zerolinecolor": "white"
           },
           "zaxis": {
            "backgroundcolor": "#E5ECF6",
            "gridcolor": "white",
            "gridwidth": 2,
            "linecolor": "white",
            "showbackground": true,
            "ticks": "",
            "zerolinecolor": "white"
           }
          },
          "shapedefaults": {
           "line": {
            "color": "#2a3f5f"
           }
          },
          "ternary": {
           "aaxis": {
            "gridcolor": "white",
            "linecolor": "white",
            "ticks": ""
           },
           "baxis": {
            "gridcolor": "white",
            "linecolor": "white",
            "ticks": ""
           },
           "bgcolor": "#E5ECF6",
           "caxis": {
            "gridcolor": "white",
            "linecolor": "white",
            "ticks": ""
           }
          },
          "title": {
           "x": 0.05
          },
          "xaxis": {
           "automargin": true,
           "gridcolor": "white",
           "linecolor": "white",
           "ticks": "",
           "title": {
            "standoff": 15
           },
           "zerolinecolor": "white",
           "zerolinewidth": 2
          },
          "yaxis": {
           "automargin": true,
           "gridcolor": "white",
           "linecolor": "white",
           "ticks": "",
           "title": {
            "standoff": 15
           },
           "zerolinecolor": "white",
           "zerolinewidth": 2
          }
         }
        },
        "title": {
         "text": "RCS vs Frequency"
        },
        "xaxis": {
         "dtick": 10,
         "title": {
          "text": "Frequency (GHz)"
         }
        },
        "yaxis": {
         "title": {
          "text": "RCS (dBsm)"
         }
        }
       }
      }
     },
     "metadata": {},
     "output_type": "display_data"
    }
   ],
   "source": [
    "fig = go.Figure()\n",
    "\n",
    "fig.add_trace(go.Scatter(x=freq/1e9, y=rcs))\n",
    "\n",
    "fig.update_layout(\n",
    "    title='RCS vs Frequency',\n",
    "    yaxis=dict(title='RCS (dBsm)'),\n",
    "    xaxis=dict(title='Frequency (GHz)', dtick=10),\n",
    ")\n",
    "\n",
    "# uncomment this to display interactive plot\n",
    "fig.show()\n",
    "\n",
    "# display static image to reduce size on radarsimx.com\n",
    "# img_bytes = fig.to_image(format=\"jpg\", scale=2)\n",
    "# display(Image(img_bytes))"
   ]
  },
  {
   "cell_type": "markdown",
   "metadata": {},
   "source": [
    "# Simulate RCS vs Observation Angle"
   ]
  },
  {
   "cell_type": "code",
   "execution_count": 6,
   "metadata": {},
   "outputs": [
    {
     "name": "stdout",
     "output_type": "stream",
     "text": [
      "Exec time :1.184795618057251s\n"
     ]
    }
   ],
   "source": [
    "phi = np.arange(-90, 90, 0.5)\n",
    "theta = 90\n",
    "freq = 77e9\n",
    "pol = [0, 0, 1]\n",
    "density = 1\n",
    "\n",
    "rcs = np.zeros_like(phi)\n",
    "\n",
    "tic = time.time()\n",
    "for phi_idx, phi_ang in enumerate(phi):\n",
    "    rcs[phi_idx] = 10 * np.log10(\n",
    "        rcs_sbr([target],\n",
    "                freq,\n",
    "                phi_ang,\n",
    "                theta,\n",
    "                pol=pol,\n",
    "                density=density))\n",
    "toc = time.time()\n",
    "\n",
    "print('Exec time :'+str(toc-tic) + 's')"
   ]
  },
  {
   "cell_type": "code",
   "execution_count": 7,
   "metadata": {},
   "outputs": [
    {
     "data": {
      "application/vnd.plotly.v1+json": {
       "config": {
        "plotlyServerURL": "https://plot.ly"
       },
       "data": [
        {
         "type": "scatter",
         "x": [
          -90,
          -89.5,
          -89,
          -88.5,
          -88,
          -87.5,
          -87,
          -86.5,
          -86,
          -85.5,
          -85,
          -84.5,
          -84,
          -83.5,
          -83,
          -82.5,
          -82,
          -81.5,
          -81,
          -80.5,
          -80,
          -79.5,
          -79,
          -78.5,
          -78,
          -77.5,
          -77,
          -76.5,
          -76,
          -75.5,
          -75,
          -74.5,
          -74,
          -73.5,
          -73,
          -72.5,
          -72,
          -71.5,
          -71,
          -70.5,
          -70,
          -69.5,
          -69,
          -68.5,
          -68,
          -67.5,
          -67,
          -66.5,
          -66,
          -65.5,
          -65,
          -64.5,
          -64,
          -63.5,
          -63,
          -62.5,
          -62,
          -61.5,
          -61,
          -60.5,
          -60,
          -59.5,
          -59,
          -58.5,
          -58,
          -57.5,
          -57,
          -56.5,
          -56,
          -55.5,
          -55,
          -54.5,
          -54,
          -53.5,
          -53,
          -52.5,
          -52,
          -51.5,
          -51,
          -50.5,
          -50,
          -49.5,
          -49,
          -48.5,
          -48,
          -47.5,
          -47,
          -46.5,
          -46,
          -45.5,
          -45,
          -44.5,
          -44,
          -43.5,
          -43,
          -42.5,
          -42,
          -41.5,
          -41,
          -40.5,
          -40,
          -39.5,
          -39,
          -38.5,
          -38,
          -37.5,
          -37,
          -36.5,
          -36,
          -35.5,
          -35,
          -34.5,
          -34,
          -33.5,
          -33,
          -32.5,
          -32,
          -31.5,
          -31,
          -30.5,
          -30,
          -29.5,
          -29,
          -28.5,
          -28,
          -27.5,
          -27,
          -26.5,
          -26,
          -25.5,
          -25,
          -24.5,
          -24,
          -23.5,
          -23,
          -22.5,
          -22,
          -21.5,
          -21,
          -20.5,
          -20,
          -19.5,
          -19,
          -18.5,
          -18,
          -17.5,
          -17,
          -16.5,
          -16,
          -15.5,
          -15,
          -14.5,
          -14,
          -13.5,
          -13,
          -12.5,
          -12,
          -11.5,
          -11,
          -10.5,
          -10,
          -9.5,
          -9,
          -8.5,
          -8,
          -7.5,
          -7,
          -6.5,
          -6,
          -5.5,
          -5,
          -4.5,
          -4,
          -3.5,
          -3,
          -2.5,
          -2,
          -1.5,
          -1,
          -0.5,
          0,
          0.5,
          1,
          1.5,
          2,
          2.5,
          3,
          3.5,
          4,
          4.5,
          5,
          5.5,
          6,
          6.5,
          7,
          7.5,
          8,
          8.5,
          9,
          9.5,
          10,
          10.5,
          11,
          11.5,
          12,
          12.5,
          13,
          13.5,
          14,
          14.5,
          15,
          15.5,
          16,
          16.5,
          17,
          17.5,
          18,
          18.5,
          19,
          19.5,
          20,
          20.5,
          21,
          21.5,
          22,
          22.5,
          23,
          23.5,
          24,
          24.5,
          25,
          25.5,
          26,
          26.5,
          27,
          27.5,
          28,
          28.5,
          29,
          29.5,
          30,
          30.5,
          31,
          31.5,
          32,
          32.5,
          33,
          33.5,
          34,
          34.5,
          35,
          35.5,
          36,
          36.5,
          37,
          37.5,
          38,
          38.5,
          39,
          39.5,
          40,
          40.5,
          41,
          41.5,
          42,
          42.5,
          43,
          43.5,
          44,
          44.5,
          45,
          45.5,
          46,
          46.5,
          47,
          47.5,
          48,
          48.5,
          49,
          49.5,
          50,
          50.5,
          51,
          51.5,
          52,
          52.5,
          53,
          53.5,
          54,
          54.5,
          55,
          55.5,
          56,
          56.5,
          57,
          57.5,
          58,
          58.5,
          59,
          59.5,
          60,
          60.5,
          61,
          61.5,
          62,
          62.5,
          63,
          63.5,
          64,
          64.5,
          65,
          65.5,
          66,
          66.5,
          67,
          67.5,
          68,
          68.5,
          69,
          69.5,
          70,
          70.5,
          71,
          71.5,
          72,
          72.5,
          73,
          73.5,
          74,
          74.5,
          75,
          75.5,
          76,
          76.5,
          77,
          77.5,
          78,
          78.5,
          79,
          79.5,
          80,
          80.5,
          81,
          81.5,
          82,
          82.5,
          83,
          83.5,
          84,
          84.5,
          85,
          85.5,
          86,
          86.5,
          87,
          87.5,
          88,
          88.5,
          89,
          89.5
         ],
         "y": [
          -52.24372835225388,
          -56.78687014926381,
          -63.036821106934326,
          -66.50277649697819,
          -56.928953674198524,
          -64.36456358069613,
          -68.15218120810962,
          -43.87913313132639,
          -40.75806507903994,
          -48.58512071357174,
          -47.161023964410546,
          -50.72934208258318,
          -69.54140696648828,
          -53.27521950078357,
          -52.18052899719851,
          -49.395779353336906,
          -48.57998301144797,
          -46.33139165772205,
          -40.8574528047745,
          -34.99883389165932,
          -32.34623835001004,
          -29.370474282990493,
          -26.62999135336314,
          -25.025899781661423,
          -24.05647798411207,
          -25.087189272024162,
          -26.327876771511136,
          -28.028762323933044,
          -31.13080781696752,
          -37.65879203291354,
          -37.13160598167815,
          -35.26735343715513,
          -34.173886652487575,
          -37.69676870271419,
          -40.473947513969634,
          -36.79972597411243,
          -37.89738699320685,
          -39.1465314808923,
          -38.546283721687935,
          -36.45399422315298,
          -37.97585720272239,
          -40.28886137110935,
          -38.169460879489485,
          -36.94920565296513,
          -39.61626981115332,
          -42.528895231548454,
          -40.21111831171289,
          -32.14540669885508,
          -24.43025287881337,
          -17.898711114507705,
          -22.964962006061622,
          -44.71646836023022,
          -47.25276370742062,
          -41.07681423569666,
          -36.888170275083326,
          -41.96818755990886,
          -37.528012491916606,
          -37.300844238537245,
          -34.07181516007529,
          -36.01010735542634,
          -38.39651877922228,
          -40.114667393768684,
          -44.206274397539445,
          -49.43272963072782,
          -53.69015595089977,
          -42.99373125432008,
          -36.8268943214526,
          -36.85908080913404,
          -47.551481030601565,
          -41.828774144623026,
          -36.69777100610621,
          -39.67655676318062,
          -42.47838659453539,
          -39.65202666345936,
          -34.42978708050414,
          -31.808587476352997,
          -28.48344688707108,
          -30.45271063426728,
          -30.199185093973114,
          -31.38541555879967,
          -32.45830403645665,
          -31.40091361853496,
          -28.26397746051347,
          -26.599305349342288,
          -24.69284811121826,
          -23.217928198378868,
          -22.624401958580442,
          -21.34689580418868,
          -20.30567354175842,
          -23.6076230033024,
          -20.675657078790884,
          -15.477440852627405,
          -14.955006998803551,
          -14.276645294045235,
          -11.481826876535404,
          -11.199784036255325,
          -9.903438785059674,
          -6.356723357481525,
          -5.233836089519164,
          -1.8525160610362161,
          4.430403250048311,
          7.84633198514947,
          8.115196255677397,
          5.162426151166542,
          -0.90527539608321,
          -4.902520322142993,
          -5.242490574616877,
          -7.148517199340264,
          -7.29522398457754,
          -7.390080500109063,
          -7.527992614003626,
          -6.069182395190307,
          -6.05498051895197,
          -5.112499191244799,
          -4.4600595679597905,
          -3.6392938341163514,
          -3.337107572981446,
          -3.0115414205758224,
          -2.322787893897362,
          -1.3228266375570379,
          -1.114455170422083,
          -0.7648308550832456,
          -0.16207308929426098,
          0.8084984708980715,
          1.0262729631688814,
          1.2509087268614034,
          1.6335278814600311,
          2.19438346364956,
          2.815051268841407,
          3.1635747912956913,
          3.091839455062016,
          3.684321254261514,
          4.676914866579852,
          5.1314695061916735,
          5.111391265156639,
          5.303910556952012,
          5.660121594575658,
          5.960627406426225,
          6.2435170273454785,
          6.537022414719072,
          6.990881384261821,
          7.209780967824665,
          7.461708857990754,
          7.760283293889378,
          7.989068483982597,
          8.289562104167857,
          8.579265063869116,
          8.815648442424063,
          9.105801810879717,
          9.255812856412058,
          9.474311588616095,
          9.726727836603983,
          9.939956808598753,
          10.258797306436204,
          10.564026302890886,
          10.566525698106215,
          10.839102938635536,
          11.113873736481466,
          11.362060014038196,
          11.44155194036033,
          11.613371114593729,
          11.767256636200774,
          11.91319143918167,
          12.024024236901557,
          12.24149290831831,
          12.38886692072921,
          12.533742960416792,
          12.688018171474463,
          12.83795676148227,
          12.946394327060007,
          13.0225929151974,
          13.213882163771988,
          13.274069267474074,
          13.426340940364717,
          13.47944851481744,
          13.526775593448935,
          13.629915390834384,
          13.66581932700834,
          13.69963169403972,
          13.72095212152275,
          13.208625357697091,
          13.720952121522682,
          13.699631694039724,
          13.66581932700836,
          13.629915390834416,
          13.526775593448935,
          13.47944851481747,
          13.426340940364723,
          13.274069267474147,
          13.213882163771984,
          13.022592915197517,
          12.946394327059966,
          12.837956761482257,
          12.68801817147446,
          12.53374296041683,
          12.38886692072918,
          12.241492908318264,
          12.02402423690158,
          11.913191439181665,
          11.767256636200766,
          11.61337111459366,
          11.441551940360402,
          11.362060014038258,
          11.113873736481363,
          10.839102938635524,
          10.566525698106283,
          10.564026302890841,
          10.258797306436136,
          9.939956808598765,
          9.726727836604084,
          9.474311588616098,
          9.25581285641178,
          9.10580181087957,
          8.815648442424184,
          8.579265063869054,
          8.289562104167779,
          7.989068483982571,
          7.760283293889335,
          7.461708857990597,
          7.209780967824737,
          6.99088138426179,
          6.537022414719143,
          6.243517027344881,
          5.960627406426217,
          5.660121594575424,
          5.303910556952008,
          5.111391265156575,
          5.131469506191319,
          4.676914866579715,
          3.684321254261353,
          3.0918394550619905,
          3.1635747912958028,
          2.8150512688418248,
          2.1943834636495745,
          1.6335278814598253,
          1.250908726861446,
          1.0262729631684444,
          0.8084984708981114,
          -0.16207308929497619,
          -0.7648308550840356,
          -1.114455170423031,
          -1.322826637557002,
          -2.322787893898567,
          -3.0115414205769637,
          -3.3371075729814095,
          -3.6392938341177277,
          -4.460059567962971,
          -5.112499191246799,
          -6.054980518951057,
          -6.069182395190815,
          -7.527992614004476,
          -7.390080500108942,
          -7.295223984577378,
          -7.148517199339565,
          -5.242490574614369,
          -4.902520322142993,
          -0.9052753960863025,
          5.162426151165115,
          8.11519625567704,
          7.846331985149289,
          4.43040325004831,
          -1.85251606103706,
          -5.2338360895197695,
          -6.356723357485253,
          -9.903438785051996,
          -11.199784036254547,
          -11.481826876547279,
          -14.276645294045235,
          -14.955006998798552,
          -15.47744085262866,
          -20.67565707880011,
          -23.60762300331414,
          -20.305673541755734,
          -21.34689580418868,
          -22.624401958580442,
          -23.217928198374842,
          -24.69284811122126,
          -26.599305349342288,
          -28.26397746051245,
          -31.40091361856461,
          -32.458304036457434,
          -31.385415558698774,
          -30.199185093965113,
          -30.452710634267007,
          -28.48344688707108,
          -31.808587476351086,
          -34.42978708051403,
          -39.65202666346086,
          -42.47838659453576,
          -39.67655676318061,
          -36.69777100610642,
          -41.828774144623026,
          -47.55148103041692,
          -36.85908080911483,
          -36.826894321452606,
          -42.99373125428641,
          -53.69015595059441,
          -49.4327296307278,
          -44.206274397494354,
          -40.11466739376179,
          -38.39651877922422,
          -36.01010735544961,
          -34.07181516008032,
          -37.30084423853683,
          -37.528012491954435,
          -41.96818755990318,
          -36.88817027510392,
          -41.07681423565067,
          -47.25276370711188,
          -44.71646836028131,
          -22.964962006061654,
          -17.898711114510807,
          -24.430252878814667,
          -32.14540669885441,
          -40.21111831171227,
          -42.528895231574936,
          -39.6162698111397,
          -36.949205652947924,
          -38.16946087948377,
          -40.288861371116056,
          -37.97585720272977,
          -36.45399422315298,
          -38.546283721709386,
          -39.146531480895426,
          -37.89738699320803,
          -36.79972597409467,
          -40.473947513988605,
          -37.69676870272465,
          -34.17388665249982,
          -35.26735343714336,
          -37.131605981689326,
          -37.65879203291354,
          -31.130807816967522,
          -28.02876232392531,
          -26.327876771512642,
          -25.087189272022158,
          -24.056477984111183,
          -25.02589978166142,
          -26.629991353363817,
          -29.370474282990493,
          -32.34623835001004,
          -34.99883389165402,
          -40.85745280477353,
          -46.33139165772205,
          -48.57998301139617,
          -49.39577935333691,
          -52.180528997201435,
          -53.275219500763725,
          -69.54140696599585,
          -50.72934208265366,
          -47.1610239644189,
          -48.58512071357174,
          -40.75806507903994,
          -43.87913313132639,
          -68.15218120870298,
          -64.36456358069613,
          -56.928953674198524,
          -66.5027764969782,
          -63.036821106934326,
          -56.7868701494276
         ]
        }
       ],
       "layout": {
        "template": {
         "data": {
          "bar": [
           {
            "error_x": {
             "color": "#2a3f5f"
            },
            "error_y": {
             "color": "#2a3f5f"
            },
            "marker": {
             "line": {
              "color": "#E5ECF6",
              "width": 0.5
             },
             "pattern": {
              "fillmode": "overlay",
              "size": 10,
              "solidity": 0.2
             }
            },
            "type": "bar"
           }
          ],
          "barpolar": [
           {
            "marker": {
             "line": {
              "color": "#E5ECF6",
              "width": 0.5
             },
             "pattern": {
              "fillmode": "overlay",
              "size": 10,
              "solidity": 0.2
             }
            },
            "type": "barpolar"
           }
          ],
          "carpet": [
           {
            "aaxis": {
             "endlinecolor": "#2a3f5f",
             "gridcolor": "white",
             "linecolor": "white",
             "minorgridcolor": "white",
             "startlinecolor": "#2a3f5f"
            },
            "baxis": {
             "endlinecolor": "#2a3f5f",
             "gridcolor": "white",
             "linecolor": "white",
             "minorgridcolor": "white",
             "startlinecolor": "#2a3f5f"
            },
            "type": "carpet"
           }
          ],
          "choropleth": [
           {
            "colorbar": {
             "outlinewidth": 0,
             "ticks": ""
            },
            "type": "choropleth"
           }
          ],
          "contour": [
           {
            "colorbar": {
             "outlinewidth": 0,
             "ticks": ""
            },
            "colorscale": [
             [
              0,
              "#0d0887"
             ],
             [
              0.1111111111111111,
              "#46039f"
             ],
             [
              0.2222222222222222,
              "#7201a8"
             ],
             [
              0.3333333333333333,
              "#9c179e"
             ],
             [
              0.4444444444444444,
              "#bd3786"
             ],
             [
              0.5555555555555556,
              "#d8576b"
             ],
             [
              0.6666666666666666,
              "#ed7953"
             ],
             [
              0.7777777777777778,
              "#fb9f3a"
             ],
             [
              0.8888888888888888,
              "#fdca26"
             ],
             [
              1,
              "#f0f921"
             ]
            ],
            "type": "contour"
           }
          ],
          "contourcarpet": [
           {
            "colorbar": {
             "outlinewidth": 0,
             "ticks": ""
            },
            "type": "contourcarpet"
           }
          ],
          "heatmap": [
           {
            "colorbar": {
             "outlinewidth": 0,
             "ticks": ""
            },
            "colorscale": [
             [
              0,
              "#0d0887"
             ],
             [
              0.1111111111111111,
              "#46039f"
             ],
             [
              0.2222222222222222,
              "#7201a8"
             ],
             [
              0.3333333333333333,
              "#9c179e"
             ],
             [
              0.4444444444444444,
              "#bd3786"
             ],
             [
              0.5555555555555556,
              "#d8576b"
             ],
             [
              0.6666666666666666,
              "#ed7953"
             ],
             [
              0.7777777777777778,
              "#fb9f3a"
             ],
             [
              0.8888888888888888,
              "#fdca26"
             ],
             [
              1,
              "#f0f921"
             ]
            ],
            "type": "heatmap"
           }
          ],
          "heatmapgl": [
           {
            "colorbar": {
             "outlinewidth": 0,
             "ticks": ""
            },
            "colorscale": [
             [
              0,
              "#0d0887"
             ],
             [
              0.1111111111111111,
              "#46039f"
             ],
             [
              0.2222222222222222,
              "#7201a8"
             ],
             [
              0.3333333333333333,
              "#9c179e"
             ],
             [
              0.4444444444444444,
              "#bd3786"
             ],
             [
              0.5555555555555556,
              "#d8576b"
             ],
             [
              0.6666666666666666,
              "#ed7953"
             ],
             [
              0.7777777777777778,
              "#fb9f3a"
             ],
             [
              0.8888888888888888,
              "#fdca26"
             ],
             [
              1,
              "#f0f921"
             ]
            ],
            "type": "heatmapgl"
           }
          ],
          "histogram": [
           {
            "marker": {
             "pattern": {
              "fillmode": "overlay",
              "size": 10,
              "solidity": 0.2
             }
            },
            "type": "histogram"
           }
          ],
          "histogram2d": [
           {
            "colorbar": {
             "outlinewidth": 0,
             "ticks": ""
            },
            "colorscale": [
             [
              0,
              "#0d0887"
             ],
             [
              0.1111111111111111,
              "#46039f"
             ],
             [
              0.2222222222222222,
              "#7201a8"
             ],
             [
              0.3333333333333333,
              "#9c179e"
             ],
             [
              0.4444444444444444,
              "#bd3786"
             ],
             [
              0.5555555555555556,
              "#d8576b"
             ],
             [
              0.6666666666666666,
              "#ed7953"
             ],
             [
              0.7777777777777778,
              "#fb9f3a"
             ],
             [
              0.8888888888888888,
              "#fdca26"
             ],
             [
              1,
              "#f0f921"
             ]
            ],
            "type": "histogram2d"
           }
          ],
          "histogram2dcontour": [
           {
            "colorbar": {
             "outlinewidth": 0,
             "ticks": ""
            },
            "colorscale": [
             [
              0,
              "#0d0887"
             ],
             [
              0.1111111111111111,
              "#46039f"
             ],
             [
              0.2222222222222222,
              "#7201a8"
             ],
             [
              0.3333333333333333,
              "#9c179e"
             ],
             [
              0.4444444444444444,
              "#bd3786"
             ],
             [
              0.5555555555555556,
              "#d8576b"
             ],
             [
              0.6666666666666666,
              "#ed7953"
             ],
             [
              0.7777777777777778,
              "#fb9f3a"
             ],
             [
              0.8888888888888888,
              "#fdca26"
             ],
             [
              1,
              "#f0f921"
             ]
            ],
            "type": "histogram2dcontour"
           }
          ],
          "mesh3d": [
           {
            "colorbar": {
             "outlinewidth": 0,
             "ticks": ""
            },
            "type": "mesh3d"
           }
          ],
          "parcoords": [
           {
            "line": {
             "colorbar": {
              "outlinewidth": 0,
              "ticks": ""
             }
            },
            "type": "parcoords"
           }
          ],
          "pie": [
           {
            "automargin": true,
            "type": "pie"
           }
          ],
          "scatter": [
           {
            "fillpattern": {
             "fillmode": "overlay",
             "size": 10,
             "solidity": 0.2
            },
            "type": "scatter"
           }
          ],
          "scatter3d": [
           {
            "line": {
             "colorbar": {
              "outlinewidth": 0,
              "ticks": ""
             }
            },
            "marker": {
             "colorbar": {
              "outlinewidth": 0,
              "ticks": ""
             }
            },
            "type": "scatter3d"
           }
          ],
          "scattercarpet": [
           {
            "marker": {
             "colorbar": {
              "outlinewidth": 0,
              "ticks": ""
             }
            },
            "type": "scattercarpet"
           }
          ],
          "scattergeo": [
           {
            "marker": {
             "colorbar": {
              "outlinewidth": 0,
              "ticks": ""
             }
            },
            "type": "scattergeo"
           }
          ],
          "scattergl": [
           {
            "marker": {
             "colorbar": {
              "outlinewidth": 0,
              "ticks": ""
             }
            },
            "type": "scattergl"
           }
          ],
          "scattermapbox": [
           {
            "marker": {
             "colorbar": {
              "outlinewidth": 0,
              "ticks": ""
             }
            },
            "type": "scattermapbox"
           }
          ],
          "scatterpolar": [
           {
            "marker": {
             "colorbar": {
              "outlinewidth": 0,
              "ticks": ""
             }
            },
            "type": "scatterpolar"
           }
          ],
          "scatterpolargl": [
           {
            "marker": {
             "colorbar": {
              "outlinewidth": 0,
              "ticks": ""
             }
            },
            "type": "scatterpolargl"
           }
          ],
          "scatterternary": [
           {
            "marker": {
             "colorbar": {
              "outlinewidth": 0,
              "ticks": ""
             }
            },
            "type": "scatterternary"
           }
          ],
          "surface": [
           {
            "colorbar": {
             "outlinewidth": 0,
             "ticks": ""
            },
            "colorscale": [
             [
              0,
              "#0d0887"
             ],
             [
              0.1111111111111111,
              "#46039f"
             ],
             [
              0.2222222222222222,
              "#7201a8"
             ],
             [
              0.3333333333333333,
              "#9c179e"
             ],
             [
              0.4444444444444444,
              "#bd3786"
             ],
             [
              0.5555555555555556,
              "#d8576b"
             ],
             [
              0.6666666666666666,
              "#ed7953"
             ],
             [
              0.7777777777777778,
              "#fb9f3a"
             ],
             [
              0.8888888888888888,
              "#fdca26"
             ],
             [
              1,
              "#f0f921"
             ]
            ],
            "type": "surface"
           }
          ],
          "table": [
           {
            "cells": {
             "fill": {
              "color": "#EBF0F8"
             },
             "line": {
              "color": "white"
             }
            },
            "header": {
             "fill": {
              "color": "#C8D4E3"
             },
             "line": {
              "color": "white"
             }
            },
            "type": "table"
           }
          ]
         },
         "layout": {
          "annotationdefaults": {
           "arrowcolor": "#2a3f5f",
           "arrowhead": 0,
           "arrowwidth": 1
          },
          "autotypenumbers": "strict",
          "coloraxis": {
           "colorbar": {
            "outlinewidth": 0,
            "ticks": ""
           }
          },
          "colorscale": {
           "diverging": [
            [
             0,
             "#8e0152"
            ],
            [
             0.1,
             "#c51b7d"
            ],
            [
             0.2,
             "#de77ae"
            ],
            [
             0.3,
             "#f1b6da"
            ],
            [
             0.4,
             "#fde0ef"
            ],
            [
             0.5,
             "#f7f7f7"
            ],
            [
             0.6,
             "#e6f5d0"
            ],
            [
             0.7,
             "#b8e186"
            ],
            [
             0.8,
             "#7fbc41"
            ],
            [
             0.9,
             "#4d9221"
            ],
            [
             1,
             "#276419"
            ]
           ],
           "sequential": [
            [
             0,
             "#0d0887"
            ],
            [
             0.1111111111111111,
             "#46039f"
            ],
            [
             0.2222222222222222,
             "#7201a8"
            ],
            [
             0.3333333333333333,
             "#9c179e"
            ],
            [
             0.4444444444444444,
             "#bd3786"
            ],
            [
             0.5555555555555556,
             "#d8576b"
            ],
            [
             0.6666666666666666,
             "#ed7953"
            ],
            [
             0.7777777777777778,
             "#fb9f3a"
            ],
            [
             0.8888888888888888,
             "#fdca26"
            ],
            [
             1,
             "#f0f921"
            ]
           ],
           "sequentialminus": [
            [
             0,
             "#0d0887"
            ],
            [
             0.1111111111111111,
             "#46039f"
            ],
            [
             0.2222222222222222,
             "#7201a8"
            ],
            [
             0.3333333333333333,
             "#9c179e"
            ],
            [
             0.4444444444444444,
             "#bd3786"
            ],
            [
             0.5555555555555556,
             "#d8576b"
            ],
            [
             0.6666666666666666,
             "#ed7953"
            ],
            [
             0.7777777777777778,
             "#fb9f3a"
            ],
            [
             0.8888888888888888,
             "#fdca26"
            ],
            [
             1,
             "#f0f921"
            ]
           ]
          },
          "colorway": [
           "#636efa",
           "#EF553B",
           "#00cc96",
           "#ab63fa",
           "#FFA15A",
           "#19d3f3",
           "#FF6692",
           "#B6E880",
           "#FF97FF",
           "#FECB52"
          ],
          "font": {
           "color": "#2a3f5f"
          },
          "geo": {
           "bgcolor": "white",
           "lakecolor": "white",
           "landcolor": "#E5ECF6",
           "showlakes": true,
           "showland": true,
           "subunitcolor": "white"
          },
          "hoverlabel": {
           "align": "left"
          },
          "hovermode": "closest",
          "mapbox": {
           "style": "light"
          },
          "paper_bgcolor": "white",
          "plot_bgcolor": "#E5ECF6",
          "polar": {
           "angularaxis": {
            "gridcolor": "white",
            "linecolor": "white",
            "ticks": ""
           },
           "bgcolor": "#E5ECF6",
           "radialaxis": {
            "gridcolor": "white",
            "linecolor": "white",
            "ticks": ""
           }
          },
          "scene": {
           "xaxis": {
            "backgroundcolor": "#E5ECF6",
            "gridcolor": "white",
            "gridwidth": 2,
            "linecolor": "white",
            "showbackground": true,
            "ticks": "",
            "zerolinecolor": "white"
           },
           "yaxis": {
            "backgroundcolor": "#E5ECF6",
            "gridcolor": "white",
            "gridwidth": 2,
            "linecolor": "white",
            "showbackground": true,
            "ticks": "",
            "zerolinecolor": "white"
           },
           "zaxis": {
            "backgroundcolor": "#E5ECF6",
            "gridcolor": "white",
            "gridwidth": 2,
            "linecolor": "white",
            "showbackground": true,
            "ticks": "",
            "zerolinecolor": "white"
           }
          },
          "shapedefaults": {
           "line": {
            "color": "#2a3f5f"
           }
          },
          "ternary": {
           "aaxis": {
            "gridcolor": "white",
            "linecolor": "white",
            "ticks": ""
           },
           "baxis": {
            "gridcolor": "white",
            "linecolor": "white",
            "ticks": ""
           },
           "bgcolor": "#E5ECF6",
           "caxis": {
            "gridcolor": "white",
            "linecolor": "white",
            "ticks": ""
           }
          },
          "title": {
           "x": 0.05
          },
          "xaxis": {
           "automargin": true,
           "gridcolor": "white",
           "linecolor": "white",
           "ticks": "",
           "title": {
            "standoff": 15
           },
           "zerolinecolor": "white",
           "zerolinewidth": 2
          },
          "yaxis": {
           "automargin": true,
           "gridcolor": "white",
           "linecolor": "white",
           "ticks": "",
           "title": {
            "standoff": 15
           },
           "zerolinecolor": "white",
           "zerolinewidth": 2
          }
         }
        },
        "title": {
         "text": "RCS vs Observation Angle"
        },
        "xaxis": {
         "dtick": 20,
         "title": {
          "text": "Observation angle (Degree)"
         }
        },
        "yaxis": {
         "title": {
          "text": "RCS (dBsm)"
         }
        }
       }
      }
     },
     "metadata": {},
     "output_type": "display_data"
    }
   ],
   "source": [
    "fig = go.Figure()\n",
    "\n",
    "fig.add_trace(go.Scatter(x=phi, y=rcs))\n",
    "\n",
    "fig.update_layout(\n",
    "    title='RCS vs Observation Angle',\n",
    "    yaxis=dict(title='RCS (dBsm)'),\n",
    "    xaxis=dict(title='Observation angle (Degree)', dtick=20),\n",
    ")\n",
    "\n",
    "# uncomment this to display interactive plot\n",
    "fig.show()\n",
    "\n",
    "# display static image to reduce size on radarsimx.com\n",
    "# img_bytes = fig.to_image(format=\"jpg\", scale=2)\n",
    "# display(Image(img_bytes))"
   ]
  }
 ],
 "metadata": {
  "kernelspec": {
   "display_name": "vsppytools",
   "language": "python",
   "name": "python3"
  },
  "language_info": {
   "codemirror_mode": {
    "name": "ipython",
    "version": 3
   },
   "file_extension": ".py",
   "mimetype": "text/x-python",
   "name": "python",
   "nbconvert_exporter": "python",
   "pygments_lexer": "ipython3",
   "version": "3.11.8"
  }
 },
 "nbformat": 4,
 "nbformat_minor": 2
}
